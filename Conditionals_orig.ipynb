{
 "cells": [
  {
   "cell_type": "markdown",
   "metadata": {},
   "source": [
    "# File->Save Notebook As...!!!\n",
    "\n",
    "Save this notebook as **Conditionals.ipynb**!!! (remove \"_orig\")\n"
   ]
  },
  {
   "cell_type": "markdown",
   "metadata": {},
   "source": [
    "# Conditionals\n",
    "\n",
    "## Remember .bash_profile?\n",
    "\n",
    "We've already seen an example of a conditional (and also environmental variables `$PATH` and `$HOME`) in the configuration file `.bash_profile`\n",
    "\n",
    "```BASH\n",
    "if [ -d $HOME/bin ] ; then\n",
    "    PATH=$PATH:$HOME/bin\n",
    "fi\n",
    "```\n",
    "\n",
    "It is checking for the existence of a `bin` directory under your home directory, and adding it to your path if it exists.\n",
    "\n",
    "This is an example of *flow-control*. It has a different behavior depending on the outcome of some kind of test: that is a *conditional*. `if` statements are common in all languages in some form."
   ]
  },
  {
   "cell_type": "markdown",
   "metadata": {},
   "source": [
    "### The general form of an `if` statment is in BASH is:\n",
    "\n",
    "\n",
    "```BASH\n",
    "\n",
    "if condition\n",
    "then\n",
    "    statements ...\n",
    "fi\n",
    "```\n",
    "\n",
    "The condition can be built from a test. Try this:"
   ]
  },
  {
   "cell_type": "code",
   "execution_count": null,
   "metadata": {},
   "outputs": [],
   "source": [
    "if [ -e Conditionals.ipynb ]\n",
    "then\n",
    "    echo \"This notebook exists.\"\n",
    "fi"
   ]
  },
  {
   "cell_type": "markdown",
   "metadata": {},
   "source": [
    "The test is `[ -e Conditionals.ipynb ]` \n",
    "\n",
    "**Breakdown:**\n",
    "\n",
    "  * The brackets tell the shell \"this is a conditional\".\n",
    "  * `-e` for \"exist\". Does \"Conditionals.ipynb\" exist?\n",
    "  * There must be spaces between each element: `[`, `-e`, `Conditionals.ipynb`, `]`\n",
    "  * `[ -e Conditionals.ipynb ]` evaluates to `true`\n",
    "  \n",
    "Now, change the filename so that the conditional evaluates to `false`"
   ]
  },
  {
   "cell_type": "code",
   "execution_count": null,
   "metadata": {},
   "outputs": [],
   "source": [
    "if [ -e ... ]\n",
    "then\n",
    "    echo \"This notebook exists.\"\n",
    "fi"
   ]
  },
  {
   "cell_type": "markdown",
   "metadata": {},
   "source": [
    "There should be no output now.  But let's make use of an `else` clause to give us a message for that condition.\n",
    "\n",
    "Execute the cell below. Then change the name of the file to a misspelling, and rerun."
   ]
  },
  {
   "cell_type": "code",
   "execution_count": null,
   "metadata": {},
   "outputs": [],
   "source": [
    "if [ -e Conditionals.ipynb ]\n",
    "then\n",
    "    echo \"The file exists.\"\n",
    "else\n",
    "    echo \"No such file.\"\n",
    "fi"
   ]
  },
  {
   "cell_type": "markdown",
   "metadata": {},
   "source": [
    "General form.\n",
    "\n",
    "```BASH\n",
    "if condition\n",
    "then\n",
    "    #statements if condtion is true\n",
    "else\n",
    "    #statements if condition is false\n",
    "fi\n",
    "```\n",
    "\n",
    "* A `then` statement is not needed after `else`.\n",
    "* The whole thing must start with `if` and end with `fi` (\"if\" backwards)\n",
    "* (Most) Things need to be on separate lines, this format promotes readability:\n",
    "  * `if condition`\n",
    "  * `then`\n",
    "  * each statement if true\n",
    "  * `else`\n",
    "  * each statement if false\n",
    "  * `fi`\n",
    " \n",
    "### Collapsed form \n",
    " \n",
    "It can also be collapsed with `;`, but is less readable. Here's the collapsed version of our if-then-else:"
   ]
  },
  {
   "cell_type": "code",
   "execution_count": null,
   "metadata": {},
   "outputs": [],
   "source": [
    "if [ -e Conditionals.ipynb ]; then echo \"The file exists.\"; else echo \"No such file.\"; fi"
   ]
  },
  {
   "cell_type": "markdown",
   "metadata": {},
   "source": [
    "**But, we'll stick with the multi-line form.**\n",
    "\n",
    "## More practice\n"
   ]
  },
  {
   "cell_type": "markdown",
   "metadata": {},
   "source": [
    "I have several files and directories the current directory. Let's employ the same construct to different files. We will also use some different _file test operators_. This is a partial list.\n",
    "\n",
    "* `-e`: Already encounterd. Does the argument exist?\n",
    "* `-f`: Is the argument `a file`, and `not a directory`? (Also excludeds special file types).\n",
    "* `-d`: Is the argument `a directory`?\n",
    "* `-s`: Is the argument `non-empty`?\n",
    "\n",
    "It is implied that the argument exists for any of these to be true.\n",
    "\n",
    "Fill the *if statement* to see if `Downloader.ipynb` is a file (not using `-e` as above)."
   ]
  },
  {
   "cell_type": "code",
   "execution_count": null,
   "metadata": {},
   "outputs": [],
   "source": [
    "if [ ... ]\n",
    "then\n",
    "   echo ...\n",
    "fi"
   ]
  },
  {
   "cell_type": "markdown",
   "metadata": {},
   "source": [
    "**Your turn.** Remember that `.` is your current directory? Write an *if statement* to test that `.` is a directory."
   ]
  },
  {
   "cell_type": "code",
   "execution_count": null,
   "metadata": {},
   "outputs": [],
   "source": [
    "if [ ... ]\n",
    "then\n",
    "   echo ...\n",
    "fi"
   ]
  },
  {
   "cell_type": "markdown",
   "metadata": {},
   "source": [
    "Write an *if-then-else statement* to test whether `Conditionals.ipynb` is a directory. Since **this is false**, write an informative message using `echo` under the `else` section."
   ]
  },
  {
   "cell_type": "code",
   "execution_count": null,
   "metadata": {},
   "outputs": [],
   "source": [
    "if [ ... ]\n",
    "then\n",
    "   echo ...\n",
    "else\n",
    "   echo ...   \n",
    "fi"
   ]
  },
  {
   "cell_type": "markdown",
   "metadata": {},
   "source": [
    "Your turn. Remember that `..` is the parent directory? Write an *if-then-else statement* to test that `..` is a file. Again, **this is false**, so write an informative message."
   ]
  },
  {
   "cell_type": "code",
   "execution_count": null,
   "metadata": {},
   "outputs": [],
   "source": []
  },
  {
   "cell_type": "markdown",
   "metadata": {},
   "source": [
    "## Using variables in tests\n",
    "\n",
    "You can replace the argument with a variable. See the general form below:\n",
    "\n",
    "```BASH\n",
    "\n",
    "varname=value\n",
    "\n",
    "if [ operator \"$varname\" ]\n",
    "then\n",
    "   #statements if true\n",
    "else\n",
    "   #statements if false\n",
    "fi\n",
    "```\n",
    "\n",
    "Notice how I quoted `varname`? That's because there will be syntax error if it contains a space. This is *defensive programming* that considers possible situations that break the code."
   ]
  },
  {
   "cell_type": "code",
   "execution_count": null,
   "metadata": {},
   "outputs": [],
   "source": [
    "path=...\n",
    "\n",
    "if [ ... \"$path\" ]\n",
    "then\n",
    "   echo \"$path is a directory.\"\n",
    "fi"
   ]
  },
  {
   "cell_type": "markdown",
   "metadata": {},
   "source": [
    "Fill in the `...`s to activate the `echo` statement."
   ]
  },
  {
   "cell_type": "code",
   "execution_count": null,
   "metadata": {},
   "outputs": [],
   "source": [
    "path=...\n",
    "\n",
    "if [ ... \"$path\" ]\n",
    "then\n",
    "   echo \"$path is a file.\"\n",
    "fi"
   ]
  },
  {
   "cell_type": "markdown",
   "metadata": {},
   "source": [
    "Fill in the `...`s to activate the `echo` statement."
   ]
  },
  {
   "cell_type": "markdown",
   "metadata": {},
   "source": [
    "## Negation\n",
    "\n",
    "You can reverse the true/false outcome of the conditional by adding a `!` operator before the test. As with everything else- spaces must separate each element."
   ]
  },
  {
   "cell_type": "code",
   "execution_count": null,
   "metadata": {},
   "outputs": [],
   "source": [
    "if [ ! -e Conditionals.ipynb ]\n",
    "then\n",
    "    echo \"No such file.\"\n",
    "    \n",
    "else\n",
    "    echo \"The file exists.\"\n",
    "fi"
   ]
  },
  {
   "cell_type": "markdown",
   "metadata": {},
   "source": [
    "Notice how the affirmative is now under the `else` block?\n",
    "\n",
    "Take one of your completed cells above and reverse the outcome with a `!` operator. Change the `echo` statements to always give an accurate message."
   ]
  },
  {
   "cell_type": "markdown",
   "metadata": {},
   "source": [
    "# Scripting example\n",
    "\n",
    "In our Downloader.sh, we our downloading a file. But there is conflict if the files already exist, and you don't want to re-download files anyway, especially if they are large.\n",
    "\n",
    "Run your script. You can use ```Downloader_finished.sh``` if you didn't finish it for the homework."
   ]
  },
  {
   "cell_type": "code",
   "execution_count": null,
   "metadata": {},
   "outputs": [],
   "source": [
    "bash ./Downloader.sh"
   ]
  },
  {
   "cell_type": "markdown",
   "metadata": {},
   "source": [
    "Let's use what we learned above to change that script to only download when necessary. Time to make a better version of the script.\n",
    "\n",
    "### SWITCHING TO A TERMINAL\n",
    "\n",
    "**IF you don't have an open terminal** Go to the launcher and click the terminal box on the bottom row.\n",
    "\n",
    "Sync-check. Is this notebook in the same directory as your terminal, and this notebook?"
   ]
  },
  {
   "cell_type": "code",
   "execution_count": null,
   "metadata": {},
   "outputs": [],
   "source": [
    "pwd"
   ]
  },
  {
   "cell_type": "markdown",
   "metadata": {},
   "source": [
    "once you are in right place, \n",
    "\n",
    "**In your terminal** execute the following commands.\n",
    "\n",
    "1. `$ cp Downloader.sh Downloader_honeybee.sh`\n",
    "1. `$ nano Downloader_2.sh` \n",
    "1. Find the statement: `wget -nc $baseUrl/$datafile` and write:\n",
    "   1. `if [ ! -e \"$datafile\" ]`\n",
    "   1. `then` on the lines above it.\n",
    "   1. `fi` on the line below it.\n",
    "   \n",
    "It should now read:"
   ]
  },
  {
   "cell_type": "markdown",
   "metadata": {},
   "source": [
    "```BASH\n",
    "if [ ! -e \"$datafile\" ]\n",
    "then\n",
    "    wget -nc $baseUrl/$datafile\n",
    "fi\n",
    "```"
   ]
  },
  {
   "cell_type": "markdown",
   "metadata": {},
   "source": [
    "Note: The if-statement makes the use of `-nc` redundant.\n",
    "\n",
    "Save your file CTRL-X, y, ENTER. Let's run it."
   ]
  },
  {
   "cell_type": "code",
   "execution_count": 2,
   "metadata": {},
   "outputs": [],
   "source": [
    "# run Downloader_honeybee.sh in here"
   ]
  },
  {
   "cell_type": "markdown",
   "metadata": {},
   "source": [
    "## Challenge make a new downloader\n",
    "\n"
   ]
  },
  {
   "cell_type": "markdown",
   "metadata": {},
   "source": [
    "### New syntax in this notebook:\n",
    "\n",
    "#### if-then: \n",
    "\n",
    "```BASH\n",
    "if [ ... ]\n",
    "then\n",
    "   ...\n",
    "fi\n",
    "```\n",
    "\n",
    "#### if-then-else: \n",
    "\n",
    "```BASH\n",
    "if [ ... ]\n",
    "then\n",
    "   ...\n",
    "else\n",
    "   ...\n",
    "fi\n",
    "```\n",
    "\n",
    "#### File test operators:\n",
    "\n",
    "  * `-e`: Does the argument exist?\n",
    "  * `-f`: Is the argument `a file`, and `not a directory`? (Also excludes special file types).\n",
    "  * `-d`: Is the argument `a directory`?\n",
    "  * `-s`: Is the argument `non-empty`?\n",
    "\n",
    "#### NOT operator:\n",
    "\n",
    "  * `!`: reverse the true/false outcome of a condition.\n",
    "\n"
   ]
  },
  {
   "cell_type": "code",
   "execution_count": null,
   "metadata": {},
   "outputs": [],
   "source": []
  }
 ],
 "metadata": {
  "kernelspec": {
   "display_name": "Bash",
   "language": "bash",
   "name": "bash"
  },
  "language_info": {
   "codemirror_mode": "shell",
   "file_extension": ".sh",
   "mimetype": "text/x-sh",
   "name": "bash"
  }
 },
 "nbformat": 4,
 "nbformat_minor": 4
}
