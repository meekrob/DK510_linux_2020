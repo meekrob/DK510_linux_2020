{
 "cells": [
  {
   "cell_type": "markdown",
   "metadata": {},
   "source": [
    "# Capturing command output\n",
    "\n",
    "It is useful to run commands and save the results in variables.\n",
    "For this, we will be downloading the set of genes from honeybee (*Apis Mellifera*). \n",
    "\n",
    "To see a listing of genomic data at NCBI, go to https://www.ncbi.nlm.nih.gov/genome/annotation_euk/all/."
   ]
  },
  {
   "cell_type": "code",
   "execution_count": 7,
   "metadata": {},
   "outputs": [
    {
     "name": "stdout",
     "output_type": "stream",
     "text": [
      "https://ftp.ncbi.nlm.nih.gov/genomes/all/annotation_releases/7460/104/GCF_003254395.2_Amel_HAv3.1/GCF_003254395.2_Amel_HAv3.1_genomic.gff.gz\n"
     ]
    }
   ],
   "source": [
    "# the base FTP directory for Honey Bee\n",
    "ncbi_ftp_honeybee=\"https://ftp.ncbi.nlm.nih.gov/genomes/all/annotation_releases/7460/104/GCF_003254395.2_Amel_HAv3.1\"\n",
    "\n",
    "# The GFF file for genomic sequences, add it on to make a URL\n",
    "all_seqs_url=\"$ncbi_ftp_honeybee/GCF_003254395.2_Amel_HAv3.1_genomic.gff.gz\"\n",
    "\n",
    "# later I'm going to use a shorter name\n",
    "shortname=\"Amel_HAv3.1_genomic.gff\"\n",
    "\n",
    "# print the full url\n",
    "echo $all_seqs_url"
   ]
  },
  {
   "cell_type": "markdown",
   "metadata": {},
   "source": [
    "This is a very long string, but we made it easier to read by setting one variable for the base URL, and the second, full URL by adding the filename. \n",
    "\n",
    "**Reproducible Research tip:**\n",
    "> Handling long strings with variables makes them more readable, and less error-prone.\n",
    "\n",
    "**Question: What else is available for Apis Mellifera?**\n",
    "> Go to https://ftp.ncbi.nlm.nih.gov/genomes/all/annotation_releases/7460/104/GCF_003254395.2_Amel_HAv3.1/ in your web browser.\n",
    "\n",
    "If you look at the README.txt in that directory, you'll see a lot of descriptions. The one that pertains to the file we're downloading is:\n",
    "\n",
    "<pre>   *_genomic.gff.gz file\n",
    "       Annotation of the genomic sequence(s) in Generic Feature Format Version 3\n",
    "       (GFF3). Sequence identifiers are provided as accession.version.\n",
    "       Additional information about NCBI's GFF files is available at \n",
    "       ftp://ftp.ncbi.nlm.nih.gov/genomes/README_GFF3.txt.</pre>\n",
    "\n",
    "Let's download it, but again, use a variable for the name to shorten it."
   ]
  },
  {
   "cell_type": "code",
   "execution_count": 2,
   "metadata": {},
   "outputs": [
    {
     "name": "stdout",
     "output_type": "stream",
     "text": [
      "  % Total    % Received % Xferd  Average Speed   Time    Time     Time  Current\n",
      "                                 Dload  Upload   Total   Spent    Left  Speed\n",
      "100 6597k  100 6597k    0     0  8271k      0 --:--:-- --:--:-- --:--:-- 8267k\n",
      "total 204M\n",
      "-rw-r--r-- 1 dcking@colostate.edu erinnishgrp@colostate.edu 146M Aug 16 21:10 Amel_HAv3.1_genomic.gff\n",
      "-rw-r--r-- 1 dcking@colostate.edu erinnishgrp@colostate.edu 6.5M Aug 16 22:19 Amel_HAv3.1_genomic.gff.gz\n",
      "-rw-r--r-- 1 dcking@colostate.edu erinnishgrp@colostate.edu 6.9K Aug 16 22:19 linux_scripting_ii_variables_command_output.ipynb\n"
     ]
    }
   ],
   "source": [
    "\n",
    "curl $all_seqs_url > $shortname.gz\n",
    "ls -lh"
   ]
  },
  {
   "cell_type": "markdown",
   "metadata": {},
   "source": [
    "We used `curl` to download a file from NCBI, just as if we had clicked on it in a Web Browser. But it saved directly to our current location on Summit.\n",
    "\n",
    "\n",
    "Now, unzip the file using gunzip, but use the variablename instead of literally typing in the filename.\n",
    "\n",
    "`gunzip $shortname.gz`\n",
    "\n",
    "`ls $shortname`\n"
   ]
  },
  {
   "cell_type": "code",
   "execution_count": null,
   "metadata": {},
   "outputs": [],
   "source": []
  },
  {
   "cell_type": "markdown",
   "metadata": {},
   "source": [
    "# GFF file format\n",
    "\n",
    "GFF (General Feature Format) is a way of specifying the genomic location of various sequences. The file we download has one exon per line. Use `head` to see the first 10 lines of the file."
   ]
  },
  {
   "cell_type": "code",
   "execution_count": null,
   "metadata": {},
   "outputs": [],
   "source": []
  },
  {
   "cell_type": "markdown",
   "metadata": {},
   "source": [
    "----\n",
    "Notice that there are some lines beginning with '#'. They contain information about the file, \"metadata\", and are similar to *comments* we have seen earlier. The first line starts with the sequence identifier: NC_037638.1. If you search this ID in genbank (https://www.ncbi.nlm.nih.gov/nuccore/NC_037638.1), you'll see that it refers to the entire honey bee genome."
   ]
  },
  {
   "cell_type": "code",
   "execution_count": 3,
   "metadata": {},
   "outputs": [
    {
     "name": "stdout",
     "output_type": "stream",
     "text": [
      "1879\n"
     ]
    }
   ],
   "source": [
    "grep homeobox Amel_HAv3.1_genomic.gff | wc -l"
   ]
  },
  {
   "cell_type": "markdown",
   "metadata": {},
   "source": [
    "This is the number of features (A LOT!) of all of the HOX genes in honey bee. In GFF3, features are things like exons, CDS, upstream regions, and the comprehensive range of the gene itself. \n",
    "\n",
    "Let's save it as a variable and print out a report."
   ]
  },
  {
   "cell_type": "code",
   "execution_count": 4,
   "metadata": {},
   "outputs": [
    {
     "name": "stdout",
     "output_type": "stream",
     "text": [
      "There are 1879 features corresponding to HOX genes in the honey bee!\n"
     ]
    }
   ],
   "source": [
    "hox_features=$(grep homeobox Amel_HAv3.1_genomic.gff | wc -l)\n",
    "echo \"There are $hox_features features corresponding to HOX genes in the honey bee!\""
   ]
  },
  {
   "cell_type": "markdown",
   "metadata": {},
   "source": [
    "A more useful count is the number of genes, not the number of features. GFF3 keeps the gene name (or generally, the *sequence* name), in the first column. Look for yourself `grep -i homeobox Amel_HAv3.1_genomic.gff | head`"
   ]
  },
  {
   "cell_type": "code",
   "execution_count": 5,
   "metadata": {},
   "outputs": [
    {
     "name": "stdout",
     "output_type": "stream",
     "text": [
      "NC_037638.1\tGnomon\tmRNA\t4661877\t4681455\t.\t+\t.\tID=rna-XM_001121365.5;Parent=gene-LOC725532;Dbxref=GeneID:725532,Genbank:XM_001121365.5,BEEBASE:GB53253;Name=XM_001121365.5;gbkey=mRNA;gene=LOC725532;model_evidence=Supporting evidence includes similarity to: 3 ESTs%2C 15 Proteins%2C and 100%25 coverage of the annotated genomic feature by RNAseq alignments%2C including 23 samples with support for all annotated introns;product=LIM/homeobox protein Awh%2C transcript variant X1;transcript_id=XM_001121365.5\n",
      "NC_037638.1\tGnomon\texon\t4661877\t4662122\t.\t+\t.\tID=exon-XM_001121365.5-1;Parent=rna-XM_001121365.5;Dbxref=GeneID:725532,Genbank:XM_001121365.5,BEEBASE:GB53253;gbkey=mRNA;gene=LOC725532;product=LIM/homeobox protein Awh%2C transcript variant X1;transcript_id=XM_001121365.5\n",
      "grep: write error\n"
     ]
    }
   ],
   "source": [
    "grep homeobox Amel_HAv3.1_genomic.gff | head -2"
   ]
  },
  {
   "cell_type": "markdown",
   "metadata": {},
   "source": [
    "These long lines show a lot of information. They are showing different things: the first line is an entire transcript, the second line is just the first exon. They both pertain to the gene with ID NC_037638.1."
   ]
  },
  {
   "cell_type": "code",
   "execution_count": 6,
   "metadata": {},
   "outputs": [
    {
     "name": "stdout",
     "output_type": "stream",
     "text": [
      "There are 1879 features corresponding to 16 HOX genes in the honey bee!\n"
     ]
    }
   ],
   "source": [
    "num_hox_genes=$(grep homeobox Amel_HAv3.1_genomic.gff | cut -f1 | uniq | wc -l)\n",
    "echo \"There are $hox_features features corresponding to $num_hox_genes HOX genes in the honey bee!\""
   ]
  },
  {
   "cell_type": "code",
   "execution_count": null,
   "metadata": {},
   "outputs": [],
   "source": []
  }
 ],
 "metadata": {
  "kernelspec": {
   "display_name": "Bash",
   "language": "bash",
   "name": "bash"
  },
  "language_info": {
   "codemirror_mode": "shell",
   "file_extension": ".sh",
   "mimetype": "text/x-sh",
   "name": "bash"
  }
 },
 "nbformat": 4,
 "nbformat_minor": 4
}
