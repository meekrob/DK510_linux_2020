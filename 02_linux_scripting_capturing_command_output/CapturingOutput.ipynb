{
 "cells": [
  {
   "cell_type": "markdown",
   "metadata": {},
   "source": [
    "# Capturing command output\n",
    "\n",
    "It can be useful to save the output of a command to a variable for later use.\n",
    "\n",
    "## Syntax\n",
    "```BASH\n",
    "     varname=value\n",
    "     varname=$( command )\n",
    "```\n",
    "A beginner error is to put spaces around the equal sign. That's OK in some languages, but not BASH.     \n",
    "\n",
    "**WRONG:**\n",
    "```\n",
    "\n",
    "varname =value\n",
    "varname= value\n",
    "\n",
    "varname =$(command)\n",
    "varname= $(command)\n",
    "\n",
    "varname=(command)\n",
    " ```\n",
    "\n",
    "Notice that we need the `$` this time on the right side of the equal sign `=`. It must accompany the parentheses.\n",
    " \n",
    "--- \n",
    "Capture the output of the command `whoami` to the variable `myname`. "
   ]
  },
  {
   "cell_type": "code",
   "execution_count": 14,
   "metadata": {},
   "outputs": [],
   "source": [
    "myname=..."
   ]
  },
  {
   "cell_type": "markdown",
   "metadata": {},
   "source": [
    "Check the outcome of this expression with the command `echo`"
   ]
  },
  {
   "cell_type": "code",
   "execution_count": null,
   "metadata": {},
   "outputs": [],
   "source": [
    "echo ..."
   ]
  },
  {
   "cell_type": "markdown",
   "metadata": {},
   "source": [
    "You can now wrap the variable in other text. Use echo to print \n",
    "```BASH\n",
    "\"My name is $myname. Hello!\"\n",
    "```"
   ]
  },
  {
   "cell_type": "code",
   "execution_count": null,
   "metadata": {},
   "outputs": [],
   "source": [
    "echo ..."
   ]
  },
  {
   "cell_type": "markdown",
   "metadata": {},
   "source": [
    "You can capture a lot of types of data this way. Save the outcome of `hostname` to the variable `whereami`"
   ]
  },
  {
   "cell_type": "code",
   "execution_count": null,
   "metadata": {},
   "outputs": [],
   "source": []
  },
  {
   "cell_type": "markdown",
   "metadata": {},
   "source": [
    "Now print a message using both of those variables."
   ]
  },
  {
   "cell_type": "code",
   "execution_count": null,
   "metadata": {},
   "outputs": [],
   "source": [
    "echo ..."
   ]
  },
  {
   "cell_type": "markdown",
   "metadata": {},
   "source": [
    "## More practice\n",
    "\n",
    "Save `pwd` to varname `dir` and echo the following statement:\n",
    "\n",
    "    \"My current directory is $dir\"\n"
   ]
  },
  {
   "cell_type": "code",
   "execution_count": null,
   "metadata": {},
   "outputs": [],
   "source": [
    "dir=...\n",
    "echo ..."
   ]
  },
  {
   "cell_type": "markdown",
   "metadata": {},
   "source": [
    "---\n",
    "Save `date +%Y` to varname `year` and echo the following statement:\n",
    "    \n",
    "    \"The best year so far is: $year\"\n",
    "    "
   ]
  },
  {
   "cell_type": "code",
   "execution_count": null,
   "metadata": {},
   "outputs": [],
   "source": [
    "year=...\n",
    "echo ..."
   ]
  },
  {
   "cell_type": "markdown",
   "metadata": {},
   "source": [
    "What does `+%Y` do? What would I use instead to get the Day of the Week?"
   ]
  },
  {
   "cell_type": "markdown",
   "metadata": {},
   "source": [
    "---\n",
    "Save `du -h -d 0` to `usage` and echo the following statement:\n",
    "\n",
    "    \"My disk usage is $usage\""
   ]
  },
  {
   "cell_type": "code",
   "execution_count": null,
   "metadata": {},
   "outputs": [],
   "source": [
    "usage=...\n",
    "echo ..."
   ]
  },
  {
   "cell_type": "markdown",
   "metadata": {},
   "source": [
    "There is extra output (a '.' for the current dir) that is a little messy. We'll deal with parsing output later.\n",
    "\n",
    "What are these arguments for `du`?\n",
    " * `-h`\n",
    " * `-d 0`\n",
    " \n",
    " ---"
   ]
  },
  {
   "cell_type": "markdown",
   "metadata": {},
   "source": [
    "# Capturing output from pipes\n",
    "\n",
    "It's OK to capture the outcome of a pipe, just like a single command.\n",
    "```BASH\n",
    "        pipeoutput=$( command1 | command2 )\n",
    "```\n",
    "\n",
    "Let's sort our directory contents by size. Get directory contents in detail form below: `ls -l`"
   ]
  },
  {
   "cell_type": "code",
   "execution_count": null,
   "metadata": {},
   "outputs": [],
   "source": []
  },
  {
   "cell_type": "markdown",
   "metadata": {},
   "source": [
    "Now, pipe those results to `sort`, `sort -k1`, `sort -k5`, and `sort -k5n`:"
   ]
  },
  {
   "cell_type": "code",
   "execution_count": null,
   "metadata": {},
   "outputs": [],
   "source": []
  },
  {
   "cell_type": "markdown",
   "metadata": {},
   "source": [
    "What did each version do?\n",
    "\n",
    "Now save the pipe to a variable, using the `sort -k5n` version of the command.\n",
    "\n",
    "Save it to the variable `contentsBySize`."
   ]
  },
  {
   "cell_type": "markdown",
   "metadata": {},
   "source": [
    "Use `echo` with `$contentsBySize` to dissect this command."
   ]
  },
  {
   "cell_type": "code",
   "execution_count": null,
   "metadata": {},
   "outputs": [],
   "source": [
    "contentsBySize=...\n",
    "echo ..."
   ]
  },
  {
   "cell_type": "markdown",
   "metadata": {},
   "source": [
    "Let's add a 3rd command.\n",
    "\n",
    "Let's get rid of the output of the line that starts with `total`.\n",
    "\n",
    "```BASH\n",
    "\n",
    "      pipeoutput=$( command1 | command2 | command3 )  \n",
    "```\n",
    "\n",
    "Add a 3rd command to your pipe: `grep -v total`\n",
    "\n",
    "`echo` the results."
   ]
  },
  {
   "cell_type": "code",
   "execution_count": null,
   "metadata": {},
   "outputs": [],
   "source": []
  },
  {
   "cell_type": "markdown",
   "metadata": {},
   "source": [
    "# Practical Exercise\n",
    "\n",
    "Let's apply these constructs to something you can use in a script. We're going to download files from the NCBI directory for the honey bee genome. Navigate to https://ftp.ncbi.nlm.nih.gov/genomes/all/annotation_releases/7460/104/GCF_003254395.2_Amel_HAv3.1 to see a directory listing (clicking will open in a new tab).\n",
    "\n",
    "For this exercise, save the above URL to a variable called `baseUrl`"
   ]
  },
  {
   "cell_type": "code",
   "execution_count": 1,
   "metadata": {},
   "outputs": [],
   "source": [
    "baseUrl='https://ftp.ncbi.nlm.nih.gov/genomes/all/annotation_releases/7460/104/GCF_003254395.2_Amel_HAv3.1'"
   ]
  },
  {
   "cell_type": "raw",
   "metadata": {},
   "source": [
    "I see in my web browser:\n",
    "\n",
    "Parent Directory                                                               -   \n",
    "Annotation_comparison/                                    2019-08-07 20:38    -   \n",
    "Evidence_alignments/                                      2019-08-07 20:38    -   \n",
    "GCF_003254395.2_Amel_HAv3.1_assembly_structure/           2019-08-07 20:37    -   \n",
    "Gnomon_models/                                            2019-08-07 20:38    -   \n",
    "RefSeq_transcripts_alignments/                            2019-08-07 20:38    -   \n",
    "Apis_mellifera_AR104_annotation_report.xml                2019-08-07 20:37  108K  \n",
    "GCF_003254395.2_Amel_HAv3.1_assembly_report.txt           2019-08-07 20:37   20K  \n",
    "GCF_003254395.2_Amel_HAv3.1_assembly_stats.txt            2019-08-07 20:37   18K  \n",
    "GCF_003254395.2_Amel_HAv3.1_cds_from_genomic.fna.gz       2019-08-07 20:37  9.0M  \n",
    "GCF_003254395.2_Amel_HAv3.1_feature_count.txt.gz          2019-08-07 20:37  476   \n",
    "GCF_003254395.2_Amel_HAv3.1_feature_table.txt.gz          2019-08-07 20:37  1.4M  \n",
    "GCF_003254395.2_Amel_HAv3.1_genomic.fna.gz                2019-08-07 20:37   66M  \n",
    "GCF_003254395.2_Amel_HAv3.1_genomic.gbff.gz               2019-08-07 20:38   95M  \n",
    "GCF_003254395.2_Amel_HAv3.1_genomic.gff.gz                2019-08-07 20:38  6.4M  \n",
    "GCF_003254395.2_Amel_HAv3.1_genomic.gtf.gz                2019-08-07 20:38  5.9M  \n",
    "GCF_003254395.2_Amel_HAv3.1_genomic_gaps.txt.gz           2019-08-07 20:38  770   \n",
    "GCF_003254395.2_Amel_HAv3.1_protein.faa.gz                2019-08-07 20:38  6.1M  \n",
    "GCF_003254395.2_Amel_HAv3.1_protein.gpff.gz               2019-08-07 20:38   14M  \n",
    "GCF_003254395.2_Amel_HAv3.1_pseudo_without_product.fna.gz 2019-08-07 20:38   39K  \n",
    "GCF_003254395.2_Amel_HAv3.1_rm.out.gz                     2019-08-07 20:38  6.9M  \n",
    "GCF_003254395.2_Amel_HAv3.1_rm.run                        2019-08-07 20:38  888   \n",
    "GCF_003254395.2_Amel_HAv3.1_rna.fna.gz                    2019-08-07 20:38   19M  \n",
    "GCF_003254395.2_Amel_HAv3.1_rna.gbff.gz                   2019-08-07 20:38   50M  \n",
    "GCF_003254395.2_Amel_HAv3.1_rna_from_genomic.fna.gz       2019-08-07 20:38   17M  \n",
    "GCF_003254395.2_Amel_HAv3.1_translated_cds.faa.gz         2019-08-07 20:38  5.6M  \n",
    "README.txt                                                2019-11-01 14:35   43K  \n",
    "README_Apis_mellifera_annotation_release_104              2019-08-07 20:37  712   \n",
    "annotation_hashes.txt                                     2019-08-07 22:35  410   \n",
    "assembly_status.txt                                       2020-08-16 09:09   14   \n",
    "md5checksums.txt                                          2019-08-07 22:35   19K "
   ]
  },
  {
   "cell_type": "markdown",
   "metadata": {},
   "source": [
    "The README.txt explains the format of each of these files, but for our purposes, let's just choose one of the data files. Choose by saving on of the files to a variable called `datafile`. I'm going to use \"GCF_003254395.2_Amel_HAv3.1_genomic.gff.gz\"."
   ]
  },
  {
   "cell_type": "code",
   "execution_count": null,
   "metadata": {},
   "outputs": [],
   "source": []
  },
  {
   "cell_type": "markdown",
   "metadata": {},
   "source": [
    "If you have defined the variables correctly, the following command downloads the specified file. This will place a file in your directory with the same name as the string stored in `$datafile`"
   ]
  },
  {
   "cell_type": "code",
   "execution_count": null,
   "metadata": {},
   "outputs": [],
   "source": [
    "wget $baseUrl/$datafile"
   ]
  },
  {
   "cell_type": "markdown",
   "metadata": {},
   "source": [
    "Now, get the checksum of the file by running the command `md5sum` on `$datafile`"
   ]
  },
  {
   "cell_type": "code",
   "execution_count": null,
   "metadata": {},
   "outputs": [],
   "source": []
  },
  {
   "cell_type": "markdown",
   "metadata": {},
   "source": [
    "**But, how do we check if it's right?** We need the checksum file. Looking at the directory listing above, the filename is \"md5checksums.txt\". Set this name to the variable `checksumfile`. \n",
    "\n",
    "If you defined the variable names correctly, this command will download the checksum file."
   ]
  },
  {
   "cell_type": "code",
   "execution_count": 3,
   "metadata": {},
   "outputs": [
    {
     "name": "stdout",
     "output_type": "stream",
     "text": [
      "curl: Remote file name has no length!\n",
      "curl: (23) Failed writing received data to disk/application\n"
     ]
    },
    {
     "ename": "",
     "evalue": "23",
     "output_type": "error",
     "traceback": []
    }
   ],
   "source": [
    "curl -O $baseUrl/$checksumfile"
   ]
  },
  {
   "cell_type": "code",
   "execution_count": null,
   "metadata": {},
   "outputs": [],
   "source": [
    "cat $checksumfile"
   ]
  }
 ],
 "metadata": {
  "kernelspec": {
   "display_name": "Bash",
   "language": "bash",
   "name": "bash"
  },
  "language_info": {
   "codemirror_mode": "shell",
   "file_extension": ".sh",
   "mimetype": "text/x-sh",
   "name": "bash"
  }
 },
 "nbformat": 4,
 "nbformat_minor": 4
}
