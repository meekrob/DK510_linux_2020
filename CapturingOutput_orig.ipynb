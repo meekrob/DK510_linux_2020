{
 "cells": [
  {
   "cell_type": "markdown",
   "metadata": {},
   "source": [
    "# File->Save Notebook As...!!!\n",
    "\n",
    "Save this notebook as **CapturingOutput.ipynb**!!! (remove \"_orig\")\n"
   ]
  },
  {
   "cell_type": "markdown",
   "metadata": {},
   "source": [
    "# Capturing command output\n",
    "\n",
    "It can be useful to save the output of a command to a variable for later use.\n",
    "\n",
    "## Syntax\n",
    "```BASH\n",
    "     varname=value\n",
    "     varname=$( command )\n",
    "```\n",
    "A beginner error is to put spaces around the equal sign. That's OK in some languages, but not BASH.     \n",
    "\n",
    "**WRONG:**\n",
    "```\n",
    "\n",
    "varname =value\n",
    "varname= value\n",
    "\n",
    "varname =$(command)\n",
    "varname= $(command)\n",
    "\n",
    "varname=(command)\n",
    " ```\n",
    "\n",
    "Notice that we need the `$` this time on the right side of the equal sign `=`. It must accompany the parentheses.\n",
    " \n",
    "--- \n",
    "Capture the output of the command `whoami` to the variable `myname`. Remember to enclose the command `whoami` in `$( )`"
   ]
  },
  {
   "cell_type": "code",
   "execution_count": null,
   "metadata": {},
   "outputs": [],
   "source": [
    "myname=..."
   ]
  },
  {
   "cell_type": "markdown",
   "metadata": {},
   "source": [
    "Check the outcome of this expression with the command `echo`"
   ]
  },
  {
   "cell_type": "code",
   "execution_count": null,
   "metadata": {},
   "outputs": [],
   "source": [
    "echo ..."
   ]
  },
  {
   "cell_type": "markdown",
   "metadata": {},
   "source": [
    "You can now wrap the variable in other text. Use echo to print \n",
    "```BASH\n",
    "\"My name is $myname. Hello!\"\n",
    "```"
   ]
  },
  {
   "cell_type": "code",
   "execution_count": null,
   "metadata": {},
   "outputs": [],
   "source": [
    "echo ..."
   ]
  },
  {
   "cell_type": "markdown",
   "metadata": {},
   "source": [
    "You can capture a lot of types of data this way. Save the outcome of `hostname` to the variable `whereami`"
   ]
  },
  {
   "cell_type": "code",
   "execution_count": null,
   "metadata": {},
   "outputs": [],
   "source": []
  },
  {
   "cell_type": "markdown",
   "metadata": {},
   "source": [
    "Now print a message using both of those variables."
   ]
  },
  {
   "cell_type": "code",
   "execution_count": null,
   "metadata": {},
   "outputs": [],
   "source": [
    "echo ..."
   ]
  },
  {
   "cell_type": "markdown",
   "metadata": {},
   "source": [
    "## More practice\n",
    "\n",
    "Save `pwd` to varname `dir` and echo the following statement:\n",
    "\n",
    "    \"My current directory is $dir\"\n"
   ]
  },
  {
   "cell_type": "code",
   "execution_count": null,
   "metadata": {},
   "outputs": [],
   "source": [
    "dir=...\n",
    "echo ..."
   ]
  },
  {
   "cell_type": "markdown",
   "metadata": {},
   "source": [
    "---\n",
    "Save `date +%Y` to varname `year` and echo the following statement:\n",
    "    \n",
    "    \"The best year so far is: $year\"\n",
    "    "
   ]
  },
  {
   "cell_type": "code",
   "execution_count": null,
   "metadata": {},
   "outputs": [],
   "source": [
    "year=...\n",
    "echo ..."
   ]
  },
  {
   "cell_type": "markdown",
   "metadata": {},
   "source": [
    "What does `+%Y` do? What would I use instead to get the Day of the Week?"
   ]
  },
  {
   "cell_type": "markdown",
   "metadata": {},
   "source": [
    "---\n",
    "Save `du -h --summary` to `usage` and echo the following statement:\n",
    "\n",
    "    \"My disk usage is $usage\""
   ]
  },
  {
   "cell_type": "code",
   "execution_count": null,
   "metadata": {},
   "outputs": [],
   "source": [
    "usage=...\n",
    "echo ..."
   ]
  },
  {
   "cell_type": "markdown",
   "metadata": {},
   "source": [
    "There is extra output (a '.' for the current dir) that is a little messy. We'll deal with parsing output later.\n",
    "\n",
    "What are these arguments for `du`?\n",
    " * `-h`\n",
    " * `--summary`\n",
    " \n",
    " ---"
   ]
  },
  {
   "cell_type": "markdown",
   "metadata": {},
   "source": [
    "# Capturing output from pipes\n",
    "\n",
    "It's OK to capture the outcome of a pipe, just like a single command.\n",
    "```BASH\n",
    "        pipeoutput=$( command1 | command2 )\n",
    "```\n",
    "\n",
    "Let's sort our directory contents by size. Get directory contents in detail form below: `ls -l`"
   ]
  },
  {
   "cell_type": "code",
   "execution_count": null,
   "metadata": {},
   "outputs": [],
   "source": [
    "ls -l"
   ]
  },
  {
   "cell_type": "markdown",
   "metadata": {},
   "source": [
    "Now, pipe those results to `sort`, `sort -k1`, `sort -k5`, and `sort -k5n`:"
   ]
  },
  {
   "cell_type": "code",
   "execution_count": null,
   "metadata": {},
   "outputs": [],
   "source": [
    "ls -l | sort  -k5n"
   ]
  },
  {
   "cell_type": "markdown",
   "metadata": {},
   "source": [
    "What did each version do? Notice that sorting numerically on column 5 is the same as sorting by file size, which has a flag in `ls`.\n",
    "\n",
    "These all do the same:\n",
    "```BASH\n",
    "\n",
    "# get long-form from 'ls', then sort by column 5 (n = numerically)\n",
    "ls -l | sort -k5n\n",
    "\n",
    "# make `ls` sort by size, and do long form\n",
    "ls -S -l\n",
    "\n",
    "# same as above, flags combined\n",
    "ls -Sl\n",
    "\n",
    "```\n",
    "\n",
    "Now let's select the largest file only, gotten by adding a final `tail` command.\n",
    "\n",
    "```BASH\n",
    "\n",
    "ls -l | sort -k5n | tail -n 1\n",
    "\n",
    "```\n",
    "\n",
    "Save it to the variable `largestFile` using the `$( ... )` construct. `echo` that variable on the second line."
   ]
  },
  {
   "cell_type": "code",
   "execution_count": null,
   "metadata": {},
   "outputs": [],
   "source": [
    "largestFile=...\n",
    "echo ..."
   ]
  },
  {
   "cell_type": "markdown",
   "metadata": {},
   "source": [
    "Change the variable and the command to get the smallest file."
   ]
  },
  {
   "cell_type": "code",
   "execution_count": null,
   "metadata": {},
   "outputs": [],
   "source": [
    "smallestFile=...\n",
    "echo ..."
   ]
  },
  {
   "cell_type": "markdown",
   "metadata": {},
   "source": [
    "Did that work? What command can you add to filter out the line \"total\"?"
   ]
  },
  {
   "cell_type": "markdown",
   "metadata": {},
   "source": [
    "### Extracting the file name\n",
    "\n",
    "But, it's cleaner to just grab the filename. **What command can we use to extract the file name?**\n",
    "\n",
    "Unfortunately, `cut` does not split on \"whitespace\". \n",
    "\n",
    "### Whitespace: definition ###\n",
    "\n",
    "*Definition:* \"whitespace\". Any sequence of spaces, tabs, and newlines.\n",
    "\n",
    "There is a command that will do it, but it's syntax is more complex. It is `awk`.\n",
    "\n",
    "Example: \n",
    "```BASH\n",
    "ls -l | awk '{print $5}'\n",
    "```\n",
    "\n",
    " will ***print the 5th column*** in a whitespace-delimited stream of input, line by line. In `ls -l`, the 5th column is the file size. \n",
    " \n",
    " Try finding the column for the filename by changing the `5` to the right column number:"
   ]
  },
  {
   "cell_type": "code",
   "execution_count": null,
   "metadata": {},
   "outputs": [],
   "source": [
    "ls -l | awk ..."
   ]
  },
  {
   "cell_type": "markdown",
   "metadata": {},
   "source": [
    "Now, add the `awk` command to pipes in order to make the `echo` statement accurate:"
   ]
  },
  {
   "cell_type": "code",
   "execution_count": null,
   "metadata": {},
   "outputs": [],
   "source": [
    "smallestFile=...\n",
    "largestFile=...\n",
    "echo \"The smallest file in the current directory is: $smallestFile. The largest file is $largestFile.\""
   ]
  },
  {
   "cell_type": "markdown",
   "metadata": {},
   "source": [
    "---\n",
    "\n",
    "This was educational for building up a pipeline of commands. Know that the entire pipeline can be handled with flags to `ls`, except for the `head` and `last` commands.\n",
    "\n",
    "**Man-page Challenge:** \n",
    "* How do you rewrite the pipes with just two commands each? \n",
    "* Understanding `ls` output: What additional `grep` command could you use to exclude directories?\n",
    "\n",
    "## Script Version\n",
    "\n",
    "Now, copy the following code to ***a new file in your terminal*** called `smallestLargest.sh`\n",
    "\n",
    "```BASH\n",
    "#!/bin/bash\n",
    "\n",
    "smallestFile=$(ls -l $@ | sort -k5n | grep -v total | head -n 1 | awk '{print $9}')\n",
    "largestFile=$(ls -l $@ | sort -k5n | grep -v total | tail -n 1 | awk '{print $9}')\n",
    "echo \"The smallest file in the input is: $smallestFile.\" \n",
    "echo \"The largest file in the input is $largestFile.\"\n",
    "```\n",
    "*Note- the syntax highlighting above breaks down...too bad.*\n",
    "\n",
    "\n",
    "Save the file and set execute permissions. `chmod 755 smallestLargest.sh`\n",
    "\n",
    "Now run the script. `./smallestLargest.sh`"
   ]
  },
  {
   "cell_type": "code",
   "execution_count": null,
   "metadata": {},
   "outputs": [],
   "source": []
  },
  {
   "cell_type": "markdown",
   "metadata": {},
   "source": [
    "I have introduced a new special variable here `$@` that works only in scripts to refer to arguments on the command line.\n",
    "\n",
    "Now you may run the script with specific files: `./smallestLargest.sh *.ipynb`"
   ]
  },
  {
   "cell_type": "code",
   "execution_count": null,
   "metadata": {},
   "outputs": [],
   "source": []
  },
  {
   "cell_type": "markdown",
   "metadata": {},
   "source": [
    "What did that do differently?\n",
    "\n",
    "We will explore script variables next."
   ]
  },
  {
   "cell_type": "markdown",
   "metadata": {},
   "source": [
    "---\n",
    "\n",
    "### New commands in this notebook:\n",
    "\n",
    "* `sort -k5n`\n",
    "* `awk '{print $5}'`\n",
    "* `du -h --summary`\n",
    "* `date +%Y`\n",
    "\n",
    "### New syntax in this notebook:\n",
    "\n",
    "* Capturing output: `$( )`\n",
    "* Special script variable: `$@`\n",
    "\n",
    "### New definitions in this notebook:\n",
    "* *TAB* is a special character, not just a bunch of spaces.\n",
    "* *Whitespace* is a sequence of TABs, spaces, or newlines (although most commands we use work a line at a time.)"
   ]
  },
  {
   "cell_type": "code",
   "execution_count": null,
   "metadata": {},
   "outputs": [],
   "source": []
  }
 ],
 "metadata": {
  "kernelspec": {
   "display_name": "Bash",
   "language": "bash",
   "name": "bash"
  },
  "language_info": {
   "codemirror_mode": "shell",
   "file_extension": ".sh",
   "mimetype": "text/x-sh",
   "name": "bash"
  }
 },
 "nbformat": 4,
 "nbformat_minor": 4
}
