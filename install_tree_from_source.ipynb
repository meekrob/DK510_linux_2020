{
 "cells": [
  {
   "cell_type": "markdown",
   "metadata": {},
   "source": [
    "# Installing software from source\n",
    "\n",
    "Now we're going to do a vignette on installing software. This notebook assumes your current directory is like `/projects/username@colostate.edu/DSCI512_linux_2020`, and there is a file in that directory called `tree-1.6.0.tgz`."
   ]
  },
  {
   "cell_type": "code",
   "execution_count": null,
   "metadata": {},
   "outputs": [],
   "source": [
    "pwd\n",
    "ls -l tree-1.6.0.tgz"
   ]
  },
  {
   "cell_type": "markdown",
   "metadata": {},
   "source": [
    "**!!** *If the second command fails, take a moment to locate the correct directory.* **!!**\n",
    "\n",
    "Now, we are going to *unpack* this file, called a tarball."
   ]
  },
  {
   "cell_type": "code",
   "execution_count": null,
   "metadata": {},
   "outputs": [],
   "source": [
    "tar -zxvf tree-1.6.0.tgz\n",
    "cd tree-1.6.0\n",
    "pwd\n",
    "ls"
   ]
  },
  {
   "cell_type": "markdown",
   "metadata": {},
   "source": [
    "This command expands the compressed folder to `tree-1.6.0`. It is *source code for a c program* called `tree`, which is like `ls` except that it draws a tree instead of just listing files.\n",
    "\n",
    "*What is source code?*  Source code is human-readable programming statements that must be **compiled** into binary in order for the computer to run it. Ultimately, all programs must be compiled, although that step is often done for us.\n",
    "\n",
    "To compile this code, we must load a compiler through the module system."
   ]
  },
  {
   "cell_type": "code",
   "execution_count": null,
   "metadata": {},
   "outputs": [],
   "source": [
    "module load gcc\n",
    "make"
   ]
  },
  {
   "cell_type": "markdown",
   "metadata": {},
   "source": [
    "**There is a lot of output during compilation**. But hopefully, most of these are warnings. \n",
    "\n",
    "Use `ls -l` again to see if it created a file called \"tree\".\n",
    "\n",
    "Or specifically, `ls -l tree`"
   ]
  },
  {
   "cell_type": "code",
   "execution_count": null,
   "metadata": {},
   "outputs": [],
   "source": []
  },
  {
   "cell_type": "markdown",
   "metadata": {},
   "source": [
    "??? Do you see something like:\n",
    "\n",
    "`-rwxr-xr-x 1 username@colostate.edu usernamegrp@colostate.edu 69528 Aug 16 18:38 tree`\n",
    "\n",
    "If you don't see it, you can copy it from my directory. \n",
    "\n",
    "`cp /projects/dcking@colostate.edu/bin/tree .`"
   ]
  },
  {
   "cell_type": "code",
   "execution_count": null,
   "metadata": {},
   "outputs": [],
   "source": [
    "# chmod u+x tree\n",
    "./tree"
   ]
  },
  {
   "cell_type": "markdown",
   "metadata": {},
   "source": [
    "Did it say \"permission denied\"? Uncomment that first line `#chmod u+x tree` and run again. (Delete the '#' only).\n",
    "\n",
    "You should see a text drawing like that shows files and directories. Notice the folder/directory \"doc\" has files inside it, and they are drawn a little to the right, with the lines connecting to \"doc\" instead of \".\" (current directory).\n",
    "\n",
    "\n",
    "## Installing the program \"tree\"\n",
    "\n",
    "We've made the binary program \"tree\" by compiling it. Now we have to move it to a directory in our path. Let's look at the PATH again."
   ]
  },
  {
   "cell_type": "code",
   "execution_count": null,
   "metadata": {},
   "outputs": [],
   "source": [
    "echo $PATH"
   ]
  },
  {
   "cell_type": "markdown",
   "metadata": {},
   "source": [
    "Unfortunately, we don't have permissions to place a file in any of these directories. That's because this is a shared system, and only administrators can do that. We are going to add one of our own folders/directories to this list in a moment.\n",
    "\n",
    "### Installing a program \"locally\"\n",
    "\n",
    "Now we install \"tree\" by copying it to a reserved directory for programs. This will be `/projects/$USER/bin`"
   ]
  },
  {
   "cell_type": "code",
   "execution_count": null,
   "metadata": {},
   "outputs": [],
   "source": [
    "mkdir -p /projects/$USER/bin\n",
    "cp -v tree /projects/$USER/bin"
   ]
  },
  {
   "cell_type": "markdown",
   "metadata": {},
   "source": [
    "Now we need to edit a configuration file \".bash_profile\" in our home directory.\n",
    "\n",
    "`cd $HOME`\n",
    "\n",
    "`tree # this will not work yet`\n",
    "\n",
    "`cp .bash_profile save.bash_profile`\n",
    "\n",
    "`nano .bash_profile`"
   ]
  },
  {
   "cell_type": "code",
   "execution_count": null,
   "metadata": {},
   "outputs": [],
   "source": []
  },
  {
   "cell_type": "markdown",
   "metadata": {},
   "source": [
    "In nano, Ctrl-V all the way down to the **bottom of the file** and add this line:\n",
    "\n",
    "`PATH=$PATH:/projects/$USER/bin`\n",
    "\n",
    "...then exit and write-out (save) with Ctrl-X, (type Y)."
   ]
  },
  {
   "cell_type": "code",
   "execution_count": null,
   "metadata": {},
   "outputs": [],
   "source": [
    "source .bash_profile\n",
    "echo $PATH # should include the projects/username/bin directory"
   ]
  },
  {
   "cell_type": "markdown",
   "metadata": {},
   "source": [
    "You should now be able to execute run the program `tree` from anywhere, and without the \"./tree\".\n",
    "\n",
    "In the future, we will install programs using a package manager. Otherwise you have to go find the source code and compile it, which can be tricky."
   ]
  }
 ],
 "metadata": {
  "kernelspec": {
   "display_name": "Bash",
   "language": "bash",
   "name": "bash"
  },
  "language_info": {
   "codemirror_mode": "shell",
   "file_extension": ".sh",
   "mimetype": "text/x-sh",
   "name": "bash"
  }
 },
 "nbformat": 4,
 "nbformat_minor": 4
}
