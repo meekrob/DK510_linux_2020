{
 "cells": [
  {
   "cell_type": "markdown",
   "metadata": {},
   "source": [
    "# Scripting: Variables\n",
    "\n",
    "So far we have chained commands together, such as `grep`,`sort` and `cut`, using pipes or intermediate files. But these examples have largely been a laundry list of commands. To expand the functionality of our scripts, we use variables.\n",
    "\n",
    "Think of variables as placeholders for short pieces of information that:\n",
    "\n",
    "* can be reused multiple places in a script,\n",
    "* can be determined during the execution of the script (remember Erin's script that asked for the directory name),\n",
    "* can be used and updated frequently, such as a running tally.\n",
    "* Variables are flexible and up to the designs and creativity of the programmer (that's you).\n",
    "\n",
    "General form (setting/accessing):"
   ]
  },
  {
   "cell_type": "code",
   "execution_count": null,
   "metadata": {},
   "outputs": [],
   "source": [
    "varname=\"value\""
   ]
  },
  {
   "cell_type": "markdown",
   "metadata": {},
   "source": [
    "The word `varname` is now a *reference* to the stored information \"`value\"`. A way to use it is with `echo`."
   ]
  },
  {
   "cell_type": "code",
   "execution_count": null,
   "metadata": {},
   "outputs": [],
   "source": [
    "echo varname\n",
    "echo $varname"
   ]
  },
  {
   "cell_type": "markdown",
   "metadata": {},
   "source": [
    "Notice that the first command returned `varname`, just as we had written it.\n",
    "\n",
    "Whereas, the second line used `$varname` and returned `value`. The key difference is the dollar sign `$` attached to the variable name. \n",
    "\n",
    "This is called *dereferencing*:\n",
    "\n",
    "`varname` is a reference to the stored value `value`.\n",
    "\n",
    "## More examples"
   ]
  },
  {
   "cell_type": "code",
   "execution_count": null,
   "metadata": {},
   "outputs": [],
   "source": [
    "favoriteColor=\"red\"\n",
    "favoriteNumber=42\n",
    "joke=\"I poured spot remover on my dog. Now he's gone.\"\n",
    " \n",
    "echo $favoriteColor\n",
    "echo $favoriteNumber\n",
    "echo $joke"
   ]
  },
  {
   "cell_type": "markdown",
   "metadata": {},
   "source": [
    "Notice that the variable names are descriptive of the values they store. It is good practice to use descriptive variable names, although some common examples (such as for-loops) use simple ones by convention. We'll discuss those later.\n",
    "\n",
    "## Useful examples\n",
    "\n",
    "Use the command `echo` to print the *value* of the variable `USER`. Hint: use `echo $USER`"
   ]
  },
  {
   "cell_type": "code",
   "execution_count": null,
   "metadata": {},
   "outputs": [],
   "source": [
    "echo $USER"
   ]
  },
  {
   "cell_type": "markdown",
   "metadata": {},
   "source": [
    "The word USER is a reference to your username.\n",
    "\n",
    "## Environmental variables\n",
    "\n",
    "An important use of variables is to configure your environment. Your session uses these variables for different purposes. They are all caps by default.\n",
    "\n",
    "To see them, type the command `printenv`. (This is a lot of output - click the blue border to collapse afterward)"
   ]
  },
  {
   "cell_type": "code",
   "execution_count": null,
   "metadata": {},
   "outputs": [],
   "source": [
    "printenv"
   ]
  },
  {
   "cell_type": "markdown",
   "metadata": {},
   "source": [
    "Some notable environmental variables:\n",
    "* USER\n",
    "* PWD\n",
    "* PATH\n",
    "* HOME\n",
    "\n",
    "Probably the most important is the PATH. It contains all the locations (PATHs) were installed programs are."
   ]
  },
  {
   "cell_type": "code",
   "execution_count": null,
   "metadata": {},
   "outputs": [],
   "source": [
    "echo $PATH"
   ]
  },
  {
   "cell_type": "code",
   "execution_count": null,
   "metadata": {},
   "outputs": [],
   "source": [
    "echo $PATH | tr ':' \"\\n\""
   ]
  },
  {
   "cell_type": "markdown",
   "metadata": {},
   "source": [
    "In the second command, we are printing the paths out line by line instead of merged by colons ':'.\n",
    "\n",
    "If you can execute a command, then it is a program that resides in one of those directories. To find out where, use `which`"
   ]
  },
  {
   "cell_type": "code",
   "execution_count": null,
   "metadata": {},
   "outputs": [],
   "source": [
    "which echo\n",
    "which mv"
   ]
  },
  {
   "cell_type": "code",
   "execution_count": null,
   "metadata": {},
   "outputs": [],
   "source": [
    "# Let's look at all the commands in /bin (might be a lot of output)\n",
    "ls /usr/bin"
   ]
  },
  {
   "cell_type": "markdown",
   "metadata": {},
   "source": [
    "This is a pretty complete list of commands that are available to you. *Most are safe* to run by themselves- they will just give a usage message- ***but just to be safe***, try running one of: `pwd`, `file`, `chmod`"
   ]
  },
  {
   "cell_type": "code",
   "execution_count": null,
   "metadata": {},
   "outputs": [],
   "source": [
    "pwd\n",
    "file\n",
    "chmod"
   ]
  },
  {
   "cell_type": "markdown",
   "metadata": {},
   "source": [
    "You might see a pink `: 1`, that indicates an error, because the program didn't receive runnable arguments."
   ]
  },
  {
   "cell_type": "code",
   "execution_count": null,
   "metadata": {},
   "outputs": [],
   "source": [
    "# what happens without PATH? Save it first by setting it to a new variable\n",
    "PATHSAVE=$PATH\n",
    "\n",
    "\n",
    "# the DANGEROUS command, but we can restore it\n",
    "unset PATH\n",
    "ls -l"
   ]
  },
  {
   "cell_type": "markdown",
   "metadata": {},
   "source": [
    "Notice you can no longer `ls` anything. This time, I got a pink `: 127`, which also means an error. In fact, anything that's not a `0` is an error! but you will never see `: 0` because it will return the program output instead."
   ]
  },
  {
   "cell_type": "code",
   "execution_count": null,
   "metadata": {},
   "outputs": [],
   "source": [
    "# let's restore part of the PATH, by adding `/bin`\n",
    "PATH=/usr/bin"
   ]
  },
  {
   "cell_type": "markdown",
   "metadata": {},
   "source": [
    "What is a command that is ***NOT* restored** by just adding `/usr/bin` to the PATH? Try listing one of the PATH directories we listed above that is not `/usr/bin`."
   ]
  },
  {
   "cell_type": "code",
   "execution_count": null,
   "metadata": {},
   "outputs": [],
   "source": [
    "ls -l /opt/anaconda3/bin"
   ]
  },
  {
   "cell_type": "markdown",
   "metadata": {},
   "source": [
    "On here (CURC jupyter lab), we all have the same configuration, but this will differ on different computers.\n",
    "\n",
    "Let's restore the basic commands. Type `PATH=$PATHSAVE`. "
   ]
  },
  {
   "cell_type": "code",
   "execution_count": null,
   "metadata": {},
   "outputs": [],
   "source": []
  },
  {
   "cell_type": "markdown",
   "metadata": {},
   "source": [
    "If that doesn't work, don't worry, because that's the last command of this notebook."
   ]
  },
  {
   "cell_type": "markdown",
   "metadata": {},
   "source": [
    "## Save this notebook.\n",
    "\n",
    "Click the little file disk icon in the upper left.\n",
    "\n",
    "## Download this notebook as a script.\n",
    "\n",
    "File -> Download as... --> Bash (.sh)\n"
   ]
  }
 ],
 "metadata": {
  "kernelspec": {
   "display_name": "Bash",
   "language": "bash",
   "name": "bash"
  },
  "language_info": {
   "codemirror_mode": "shell",
   "file_extension": ".sh",
   "mimetype": "text/x-sh",
   "name": "bash"
  }
 },
 "nbformat": 4,
 "nbformat_minor": 4
}
