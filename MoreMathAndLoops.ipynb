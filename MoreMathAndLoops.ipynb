{
 "cells": [
  {
   "cell_type": "markdown",
   "metadata": {},
   "source": [
    "## Numeric variables\n",
    "\n",
    "Variables that store integers can be substituted in for the literal values:\n",
    "\n",
    "```BASH\n",
    "\n",
    "value=10\n",
    "\n",
    "echo $((value + 1))\n",
    "\n",
    "# or\n",
    "\n",
    "value=10\n",
    "\n",
    "echo $(( $value + 1))\n",
    "```\n",
    "\n",
    "This time, BASH doesn't care if you use the \\$ with variables inside the `$(( ))`"
   ]
  },
  {
   "cell_type": "code",
   "execution_count": null,
   "metadata": {},
   "outputs": [],
   "source": [
    "value=10\n",
    "\n",
    "echo $(( $value + 1))\n",
    "\n",
    "echo \"1 plus $value equals $((value + 1))\""
   ]
  },
  {
   "cell_type": "markdown",
   "metadata": {},
   "source": [
    "**Challenge:**\n",
    "\n",
    "Replace all of the literal `1`s with a second variable, `value2` and assign it such that your echo statements read:\n",
    "\n",
    "```\n",
    "7 plus 10 equals 17\n",
    "\n",
    "0 plus 9 equals 9\n",
    "\n",
    "2 plus 4 equals 6\n",
    "```\n",
    "\n"
   ]
  },
  {
   "cell_type": "markdown",
   "metadata": {},
   "source": [
    "## Setting variables\n",
    "\n",
    "```BASH\n",
    "x=2\n",
    "y=$((x + 7))\n",
    "z=$((x + y + 10))\n",
    "\n",
    "echo \"Given x, y=$y, z=$z\"\n",
    "```\n",
    "\n",
    "Prints,\n",
    "\n",
    "`Given x, y=9, z=21`\n",
    "\n",
    "Try the above code below, modifying it to get the following output."
   ]
  },
  {
   "cell_type": "code",
   "execution_count": null,
   "metadata": {},
   "outputs": [],
   "source": [
    "...\n",
    "# Given x, y=9, z=21\n",
    "\n",
    "...\n",
    "# Given x, y=20, z=43\n",
    "\n",
    "...\n",
    "# Given x, y=-43, z=-83"
   ]
  },
  {
   "cell_type": "markdown",
   "metadata": {},
   "source": [
    "### Fibonacci with variables.\n",
    "\n",
    "The Fibonacci sequence is 1, 1, 2, 3, 5, 8, ... where the first two numbers are both 1, and each new number is the sum of the previous two. \n",
    "\n",
    "```BASH\n",
    "\n",
    "fib1=1\n",
    "fib2=1\n",
    "fib3=$(fib1 + fib2)\n",
    "echo \"$fib1 $fib2 $fib3\"\n",
    "\n",
    "```\n",
    "\n",
    "Repeat the sequence until you get fib6, which is `8`."
   ]
  },
  {
   "cell_type": "code",
   "execution_count": null,
   "metadata": {},
   "outputs": [],
   "source": []
  },
  {
   "cell_type": "markdown",
   "metadata": {},
   "source": [
    "Are you tried of all repetition? **You should be.**\n",
    "\n",
    "Let's level up- no more copying and pasting code to apply the same action to different values.\n",
    "\n",
    "# Loops, variables and tests\n",
    "\n",
    "Let's start with looping over a series of inputs:\n",
    "\n",
    "```BASH\n",
    "\n",
    "for var in sequence\n",
    "do\n",
    "    ...statements...\n",
    "done\n",
    "\n",
    "```\n",
    "...where `sequence` is a set of values separated by spaces, such as `4 5 6` or `cherry orange peach`, or a list of files.\n",
    "\n",
    "**Challenge**: Change the animals in the sequence below, add to them, consider some invertebrates."
   ]
  },
  {
   "cell_type": "code",
   "execution_count": null,
   "metadata": {},
   "outputs": [],
   "source": [
    "for animal in giraffe beetle aardvark\n",
    "do\n",
    "    echo \"The current animal is a(n) $animal. That is all.\"\n",
    "done"
   ]
  },
  {
   "cell_type": "markdown",
   "metadata": {},
   "source": [
    "**Challenge:** Let's simplify one of the practice examples above. Change the `sequence` part of the loop below to give you the same answer as last time."
   ]
  },
  {
   "cell_type": "code",
   "execution_count": null,
   "metadata": {},
   "outputs": [],
   "source": [
    "for x in 1 2 3\n",
    "do\n",
    "   y=$((x + 7))\n",
    "   z=$((x + y + 10))\n",
    "\n",
    "   echo \"Given x, y=$y, z=$z\"\n",
    "done\n",
    "\n",
    "# Given x, y=9, z=21\n",
    "# Given x, y=20, z=43\n",
    "# Given x, y=-43, z=-83"
   ]
  },
  {
   "cell_type": "markdown",
   "metadata": {},
   "source": [
    "**Challenge**: Change the body of the loop (statements between `do` and `done`, to produce the output in the comments (`#`):"
   ]
  },
  {
   "cell_type": "code",
   "execution_count": null,
   "metadata": {},
   "outputs": [],
   "source": [
    "for x in 10 20 30\n",
    "do\n",
    "   y=$((x + 7))\n",
    "   z=$((x + y + 10))\n",
    "\n",
    "   echo \"Given x, y=$y, z=$z\"\n",
    "done\n",
    "\n",
    "\n",
    "# Given x, y=11, z=13\n",
    "# Given x, y=21, z=33\n",
    "# Given x, y=31, z=53"
   ]
  },
  {
   "cell_type": "code",
   "execution_count": null,
   "metadata": {},
   "outputs": [],
   "source": [
    "file_n=1\n",
    "\n",
    "for filename in *\n",
    "do\n",
    "    echo \"$file_n: $filename\"\n",
    "    file_n=$((file_n + 1))\n",
    "done\n",
    "\n",
    "echo \"you have $file_n files or directories.\" "
   ]
  },
  {
   "cell_type": "code",
   "execution_count": null,
   "metadata": {},
   "outputs": [],
   "source": []
  }
 ],
 "metadata": {
  "kernelspec": {
   "display_name": "Bash",
   "language": "bash",
   "name": "bash"
  },
  "language_info": {
   "codemirror_mode": "shell",
   "file_extension": ".sh",
   "mimetype": "text/x-sh",
   "name": "bash"
  }
 },
 "nbformat": 4,
 "nbformat_minor": 4
}
