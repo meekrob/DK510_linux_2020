{
 "cells": [
  {
   "cell_type": "markdown",
   "metadata": {},
   "source": [
    "# Scripting: Variables\n",
    "\n",
    "Variables store information for later use.\n",
    "\n",
    "\n",
    "## General Syntax\n",
    "\n",
    "```BASH\n",
    "        varname=\"value\"\n",
    "```\n",
    "\n",
    "## Example\n",
    "\n",
    "```BASH\n",
    "        foo=\"bar\"\n",
    "        echo \"The value of foo is $foo\"\n",
    "```\n",
    "\n",
    "Try the example in the chunk:"
   ]
  },
  {
   "cell_type": "code",
   "execution_count": null,
   "metadata": {},
   "outputs": [],
   "source": [
    " foo=\"bar\"\n",
    "        echo \"The value of foo is $foo\""
   ]
  },
  {
   "cell_type": "markdown",
   "metadata": {},
   "source": [
    "There is nothing special about the word `foo`, but variable names should be descriptive of the data they hold."
   ]
  },
  {
   "cell_type": "code",
   "execution_count": 2,
   "metadata": {},
   "outputs": [],
   "source": [
    "animal=\"rabbit\"\n",
    "currentPlant=\"aloe\"\n",
    "fungus_among_us=\"mushroom\""
   ]
  },
  {
   "cell_type": "markdown",
   "metadata": {},
   "source": [
    "Notice that I use capital letters, or underscores, to combine a descriptive phrase into a single word to use as a variable name. **Spaces are not allowed in variable names.**\n",
    "\n",
    "Above, the words `rabbit`, `currentPlant`, and `fungus_among_us` *refer* to stored values.\n",
    "\n",
    "In BASH, you must *dereference* them to access those values. You do this by prefixing the variable name with a dollar sign. Therefore, `$animal` resolves to \"rabbit\", `$currentPlant` resolves to \"aloe\", and `$fungus_among_us` resolves to \"mushroom\".  \n",
    "\n",
    "Try accessing the value of each using the form `echo $varname`, replacing **varname** with each of `animal`, `currentPlant`, and `fungus_among_us`. (But remember to prefix with the dollar sign)."
   ]
  },
  {
   "cell_type": "code",
   "execution_count": null,
   "metadata": {},
   "outputs": [],
   "source": []
  },
  {
   "cell_type": "markdown",
   "metadata": {},
   "source": [
    "## Different types\n",
    "\n",
    "```BASH\n",
    "    luckyNumber=7\n",
    "    sentence=\"Hello there.\"\n",
    "    pi=3.14\n",
    "```\n",
    "\n",
    "Variables can store numbers and text, and more complex objects that we'll discuss later. In programming, a piece of text is referred to as a **string of characters**, or simply, a **string**.\n",
    "\n",
    "You must always quote strings that have spaces, but it is generally good practice to quote all strings.\n",
    "\n",
    "\n",
    "\n",
    "**Assign values to** the variable names `luckyNumber`, `greeting`, and `cartoonCharacter`, and print them out with the following expression:\n",
    "\n",
    "\n",
    "`echo \"$greeting $cartoonCharacter likes the number $luckyNumber\"`\n",
    "    \n"
   ]
  },
  {
   "cell_type": "code",
   "execution_count": null,
   "metadata": {},
   "outputs": [],
   "source": []
  },
  {
   "cell_type": "markdown",
   "metadata": {},
   "source": [
    "## Escape characters and quotes\n",
    "\n",
    "What if I need to print out a literal dollar sign?"
   ]
  },
  {
   "cell_type": "code",
   "execution_count": null,
   "metadata": {},
   "outputs": [],
   "source": [
    "echo 'Here is a dollar sign: $'\n",
    "echo \"Here is a dollar sign: \\$\""
   ]
  },
  {
   "cell_type": "markdown",
   "metadata": {},
   "source": [
    "The single quote `'` prevents **variable interpolation**: it tells BASH to treat the text between single quotes literally. No dereferencing.\n",
    "\n",
    "The backslash `\\` is called an **escape character**. This is useful if you need to use characters that may normally be treated as syntax.\n",
    "\n",
    "### Example - newline\n",
    "\n",
    "The `\\n` escape sequence resolves to the special whitespace character called `newline.`\n",
    "\n",
    "You can do:\n",
    "\n",
    "```BASH\n",
    "\n",
    "echo \"hi, my name is slim\n",
    "shady\"\n",
    "\n",
    "# or\n",
    "\n",
    "echo -e \"hi, my name is slim\\nshady\"\n",
    "```\n",
    "\n",
    "To get\n",
    "```BASH\n",
    "hi, my name is slim\n",
    "shady\n",
    "\n",
    "```\n",
    "\n",
    "Try it:"
   ]
  },
  {
   "cell_type": "code",
   "execution_count": null,
   "metadata": {},
   "outputs": [],
   "source": []
  },
  {
   "cell_type": "markdown",
   "metadata": {},
   "source": [
    "The `-e` flag to `echo` is for **e**scape, as in \"process escape sequences.\" If you omit the `-e`, the string is echo'd as a literal `\\n`. Try your code chunk again after deleting `-e`.\n",
    "\n",
    "What if I want to print a backslash? You must escape the backslash: `echo \"\\\\\"`"
   ]
  },
  {
   "cell_type": "code",
   "execution_count": null,
   "metadata": {},
   "outputs": [],
   "source": []
  },
  {
   "cell_type": "markdown",
   "metadata": {},
   "source": [
    "## More practice\n",
    "\n",
    "Set some variables `favoriteColor`, `favoriteQuote`, `favoriteFood`."
   ]
  },
  {
   "cell_type": "code",
   "execution_count": null,
   "metadata": {},
   "outputs": [],
   "source": []
  },
  {
   "cell_type": "markdown",
   "metadata": {},
   "source": [
    "Now show the values using this single sentence:"
   ]
  },
  {
   "cell_type": "code",
   "execution_count": null,
   "metadata": {},
   "outputs": [],
   "source": [
    "echo \"Hi, my favorite color is $favoriteColor, my favorite quote is $favoriteQuote, \n",
    "and my favorite food is $favorite food\""
   ]
  },
  {
   "cell_type": "markdown",
   "metadata": {},
   "source": [
    "**Question**: What happens if the variable name is wrong, or never set?\n"
   ]
  },
  {
   "cell_type": "markdown",
   "metadata": {},
   "source": [
    "## Environmental variables\n",
    "\n",
    "An important use of variables is to configure your environment. Your session uses these variables for different purposes. They are all caps by default.\n",
    "\n",
    "To see them, type the command `printenv`. (This is a lot of output - click the blue border to collapse afterward)"
   ]
  },
  {
   "cell_type": "code",
   "execution_count": null,
   "metadata": {},
   "outputs": [],
   "source": []
  },
  {
   "cell_type": "markdown",
   "metadata": {},
   "source": [
    "Some notable environmental variables:\n",
    "* USER\n",
    "* PWD\n",
    "* PATH\n",
    "* HOME\n",
    "\n",
    "Probably the most important is the PATH. It contains all the locations (PATHs) were installed programs are."
   ]
  },
  {
   "cell_type": "code",
   "execution_count": null,
   "metadata": {},
   "outputs": [],
   "source": [
    "echo $PATH"
   ]
  },
  {
   "cell_type": "code",
   "execution_count": null,
   "metadata": {},
   "outputs": [],
   "source": [
    "echo $PATH | tr ':' \"\\n\""
   ]
  },
  {
   "cell_type": "markdown",
   "metadata": {},
   "source": [
    "In the second command, we are printing the paths out line by line instead of merged by colons ':'.\n",
    "\n",
    "If you can execute a command, then it is a program that resides in one of those directories. To find out where, use `which`"
   ]
  },
  {
   "cell_type": "code",
   "execution_count": null,
   "metadata": {},
   "outputs": [],
   "source": [
    "which echo\n",
    "which mv"
   ]
  },
  {
   "cell_type": "code",
   "execution_count": null,
   "metadata": {},
   "outputs": [],
   "source": [
    "# Let's look at all the commands in /bin (might be a lot of output)\n",
    "ls /usr/bin"
   ]
  },
  {
   "cell_type": "markdown",
   "metadata": {},
   "source": [
    "This is a pretty complete list of commands that are available to you. *Most are safe* to run by themselves- they will just give a usage message- ***but just to be safe***, try running one of: `pwd`, `file`, `chmod`"
   ]
  },
  {
   "cell_type": "code",
   "execution_count": null,
   "metadata": {},
   "outputs": [],
   "source": [
    "pwd\n",
    "file\n",
    "chmod"
   ]
  },
  {
   "cell_type": "markdown",
   "metadata": {},
   "source": [
    "You might see a pink `: 1`, that indicates an error, because the program didn't receive runnable arguments."
   ]
  },
  {
   "cell_type": "code",
   "execution_count": null,
   "metadata": {},
   "outputs": [],
   "source": [
    "# what happens without PATH? Save it first by setting it to a new variable\n",
    "PATHSAVE=$PATH\n",
    "\n",
    "\n",
    "# the DANGEROUS command, but we can restore it\n",
    "unset PATH\n",
    "ls -l"
   ]
  },
  {
   "cell_type": "markdown",
   "metadata": {},
   "source": [
    "Notice you can no longer `ls` anything. This time, I got a pink `: 127`, which also means an error. In fact, anything that's not a `0` is an error! but you will never see `: 0` because it will return the program output instead."
   ]
  },
  {
   "cell_type": "code",
   "execution_count": null,
   "metadata": {},
   "outputs": [],
   "source": [
    "# let's restore part of the PATH, by adding `/bin`\n",
    "PATH=/usr/bin"
   ]
  },
  {
   "cell_type": "markdown",
   "metadata": {},
   "source": [
    "What is a command that is ***NOT* restored** by just adding `/usr/bin` to the PATH? Try listing one of the PATH directories we listed above that is not `/usr/bin`."
   ]
  },
  {
   "cell_type": "code",
   "execution_count": null,
   "metadata": {},
   "outputs": [],
   "source": [
    "ls -l /opt/anaconda3/bin"
   ]
  },
  {
   "cell_type": "markdown",
   "metadata": {},
   "source": [
    "On here (CURC jupyter lab), we all have the same configuration, but this will differ on different computers.\n",
    "\n",
    "Let's restore the basic commands. Type `PATH=$PATHSAVE`. "
   ]
  },
  {
   "cell_type": "code",
   "execution_count": null,
   "metadata": {},
   "outputs": [],
   "source": []
  },
  {
   "cell_type": "markdown",
   "metadata": {},
   "source": [
    "If that doesn't work, don't worry, because that's the last command of this notebook.\n",
    "\n",
    "Save this notebook by clicking the disk icon in the upper left of this window."
   ]
  },
  {
   "cell_type": "code",
   "execution_count": null,
   "metadata": {},
   "outputs": [],
   "source": []
  }
 ],
 "metadata": {
  "kernelspec": {
   "display_name": "Bash",
   "language": "bash",
   "name": "bash"
  },
  "language_info": {
   "codemirror_mode": "shell",
   "file_extension": ".sh",
   "mimetype": "text/x-sh",
   "name": "bash"
  }
 },
 "nbformat": 4,
 "nbformat_minor": 4
}
