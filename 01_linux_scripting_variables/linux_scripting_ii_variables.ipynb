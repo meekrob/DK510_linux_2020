{
 "cells": [
  {
   "cell_type": "markdown",
   "metadata": {},
   "source": [
    "# Jupyter Lab \n",
    "Jupyter is an interface for running Jupyter notebooks. It offers a bunch of functions in addition to the normal notebook.\n",
    "\n",
    "* *File, Edit, View* menu. Launching, working with notebooks.\n",
    "* *Left sidebar:* Click on a tab to change what you see in the left menu bar. \n",
    "  * Options include the file browser, a list of running kernels and terminals, a command palette, a notebook cell tools inspector, and a tabs list.\n",
    "* *Left menu bar:*\n",
    "  * The *file browser* will be active when you log in.\n",
    "     * Clicking the folder next to `/home/<username>` takes you to `/`. \n",
    "     * Better: can go anywhere via **File->Open from Path...**\n",
    "     * To open an existing notebook, just click on the notebook name in the file browser (e.g., *mynotebook.ipynb*).\n",
    "     * Above your working directory contents are buttons to add a new Launcher, create a new folder, upload files from your local computer, and refresh the working directory.\n",
    "* *Main Work Area:* Your workspaces will be in this large area on the right hand side. Under the “Launcher” tab you can:\n",
    "  * Open a new notebook with any of the kernels listed:\n",
    "     * **Python 3 (idp):** Python3 notebook (Intel Python distribution)\n",
    "     * **Bash:** BASH notebook\n",
    "     * **R:** R notebook\n",
    "  * Open other functions; the “Terminal” function is particularly useful, as it enables you to access the command line on the Summit or Blanca node your Jupyterhub job is currently running on.\n",
    "* *Left sidebar:* Click on a tab to change what you see in the left menu bar. \n",
    "* *File, Edit, View* menu. Make note of \n",
    "  * **File->Open from Path...** Open file browser to Path.\n",
    "  * **File->Hub Control Panel** Need to go here when we're done to stop the server.\n",
    "  * **Kernel->Restart Kernel...** Go here if you're idle for too long.\n",
    "* This original doc on CURC: https://curc.readthedocs.io/en/latest/gateways/jupyterhub.html\n",
    "* More: https://jupyterlab.readthedocs.io/en/stable/user/interface.html "
   ]
  },
  {
   "cell_type": "markdown",
   "metadata": {},
   "source": [
    "# Linux Literacy\n",
    "\n",
    "Let's level up on our computer literacy with regard to linux.\n",
    "\n",
    "## Environment\n",
    "\n",
    "Your environment is set up using variables. They store information about your login session, such as:\n",
    "\n",
    "* USER - Who you are.\n",
    "* PWD - Path or current working directory.\n",
    "* PATH - Where installed programs are.\n",
    "* HOME - Your home directory.\n",
    "\n",
    "To see them you use the following syntax:\n",
    "```BASH\n",
    "echo $USER\n",
    "```\n",
    "\n",
    "Notice the ```$``` before the name ```USER```."
   ]
  },
  {
   "cell_type": "code",
   "execution_count": null,
   "metadata": {},
   "outputs": [],
   "source": []
  },
  {
   "cell_type": "markdown",
   "metadata": {},
   "source": [
    "Try it without the ```$```"
   ]
  },
  {
   "cell_type": "code",
   "execution_count": null,
   "metadata": {},
   "outputs": [],
   "source": []
  },
  {
   "cell_type": "markdown",
   "metadata": {},
   "source": [
    "You see that you need the `$` to access the *value* stored in `USER`.\n",
    "\n",
    "Now ```echo``` the other three variables PWD... etc, listed above."
   ]
  },
  {
   "cell_type": "code",
   "execution_count": null,
   "metadata": {},
   "outputs": [],
   "source": [
    "echo $USER\n",
    "echo \n",
    "echo\n",
    "echo"
   ]
  },
  {
   "cell_type": "markdown",
   "metadata": {},
   "source": [
    "## More Environmental variables\n",
    "\n",
    "There are a lot of environmental variables, especially on Summit. This tells us there is a lot of configuration required to make programs work when you log in.\n",
    "\n",
    "To get a snapshot, list the first 20 lines of the command ```printenv | head -20```. If you just do ```printenv```, it will be a lot. You can hide the output of a cell by clicking the blue line in the left margin."
   ]
  },
  {
   "cell_type": "code",
   "execution_count": null,
   "metadata": {},
   "outputs": [],
   "source": []
  },
  {
   "cell_type": "markdown",
   "metadata": {},
   "source": [
    "You don't need to know what most of these are. **They are used behind the scenes.**\n",
    "\n",
    "However, an important one to know is PATH."
   ]
  },
  {
   "cell_type": "code",
   "execution_count": null,
   "metadata": {},
   "outputs": [],
   "source": [
    "echo $PATH"
   ]
  },
  {
   "cell_type": "code",
   "execution_count": null,
   "metadata": {},
   "outputs": [],
   "source": [
    "echo $PATH | tr : '\\n'\n"
   ]
  },
  {
   "cell_type": "markdown",
   "metadata": {},
   "source": [
    "What did the command ```tr : '\\n'``` do?\n",
    "\n",
    "There are several different locations here, listed as absolute paths. On mine there are some duplicated ones - there must be a step repeated in configuration, but it's harmless.\n",
    "\n",
    "These are the locations of programs you can run. The concept of organizing your computer this way is common:\n",
    "\n",
    "  * Windows - C:\\Program Files\n",
    "  * Mac - /Applications\n",
    "  * linux - /bin, /usr/local/bin, others.\n",
    "  \n",
    "To find out where a program is, use the command ```which```. Give as an argument another command, such as ```mv```."
   ]
  },
  {
   "cell_type": "code",
   "execution_count": 5,
   "metadata": {},
   "outputs": [
    {
     "name": "stdout",
     "output_type": "stream",
     "text": [
      "/usr/bin/mv\n"
     ]
    }
   ],
   "source": [
    "which mv"
   ]
  },
  {
   "cell_type": "markdown",
   "metadata": {},
   "source": [
    "**Which** ```mv``` am I using? the one in ```/usr/bin/```. These programs are installed by the system administrator and are useable by everyone. However, we cannot make changes to that directory or those files.\n",
    "\n",
    "If you don't have a program installed, ```which``` returns an error. Try running ```which``` with a program that doesn't exist, say `hello`. "
   ]
  },
  {
   "cell_type": "code",
   "execution_count": null,
   "metadata": {},
   "outputs": [],
   "source": [
    "which hello"
   ]
  },
  {
   "cell_type": "markdown",
   "metadata": {},
   "source": [
    "You will also see a pink `: 1`, that indicates an error, because the program wasn't found. This only happens on jupyter notebooks."
   ]
  },
  {
   "cell_type": "markdown",
   "metadata": {},
   "source": [
    "# Your first script\n",
    "\n",
    "It's time to write your first script. Switch over to a terminal session now. If you don't have one open, you can invoke it via the Launcher Tab (you might need to click the plus sign icon on the left).\n",
    "\n",
    "Instructions for your first script;\n",
    "  1. Switch over to the terminal and make sure you are in your home directory. Type `pwd` to see. Type `cd` if you are unsure.\n",
    "  1. Once in your home directory, type `nano hello`. This launches the text editor.\n",
    "  1. Insert the line `#!/bin/bash` at the very top. This tells the shell it is a bash script.\n",
    "  1. Skip a line and insert `echo \"hello world!\"`.\n",
    "  1. Do CTRL-X, 'Yes' to save changes, 'enter' to keep the name 'nano'.\n",
    "  \n",
    "Now type `ls` to see your directory contents, which will include the new file `hello`.\n",
    "\n",
    "Come back to this window afterward and we'll move on.\n",
    "\n",
    "### Making a script executable\n",
    "\n",
    "Now we have to make the script, which is just a text file, executable. Type ```chmod -v a+x hello``` into the command cell below.\n"
   ]
  },
  {
   "cell_type": "code",
   "execution_count": 11,
   "metadata": {},
   "outputs": [
    {
     "name": "stdout",
     "output_type": "stream",
     "text": [
      "mode of ‘hello’ retained as 0755 (rwxr-xr-x)\n"
     ]
    }
   ],
   "source": [
    "chmod -v a+x hello"
   ]
  },
  {
   "cell_type": "markdown",
   "metadata": {},
   "source": [
    "The `-v` gives a report of what it did in the language of linux file permissions. We'll talk more about them later.\n",
    "Now execute your script by typing `./hello`."
   ]
  },
  {
   "cell_type": "code",
   "execution_count": 17,
   "metadata": {},
   "outputs": [
    {
     "name": "stdout",
     "output_type": "stream",
     "text": [
      "hello world\n"
     ]
    }
   ],
   "source": [
    "./hello"
   ]
  },
  {
   "cell_type": "markdown",
   "metadata": {},
   "source": [
    "Congratulations! You have now achieved Bash scripting! ![badge](DSCI_achievement_badge.png)\n",
    "\n",
    "Notice, however, the `./`. That's code for your current directory. To avoid having to do that, we're going to \"install the program\" in the linux sense.\n",
    "\n",
    "To install a program, you must:\n",
    "  1. move it to your own bin directory (create one if you don't have one)\n",
    "  1. make sure that bin directory is in your PATH variable.\n",
    "  1. add the change to your configuration file.\n",
    "  \n",
    "#### 1. Your own bin directory.\n",
    "Look at your directory again with `ls`. There isn't a `bin` directory there by default. To create one, do `mkdir -v bin`. "
   ]
  },
  {
   "cell_type": "code",
   "execution_count": null,
   "metadata": {},
   "outputs": [],
   "source": []
  },
  {
   "cell_type": "markdown",
   "metadata": {},
   "source": [
    "Now let's move our script into that directory. Do the following actions in the cell below. \n",
    "1. `mv -v hello bin`. Reminder: the general form of `mv` is `mv [OPTION] from to`.\n",
    "2. cd to the bin directory\n",
    "3. list the bin directory. Make sure `hello` is there.\n",
    "4. If it is, return to your home directory."
   ]
  },
  {
   "cell_type": "code",
   "execution_count": null,
   "metadata": {},
   "outputs": [],
   "source": []
  },
  {
   "cell_type": "markdown",
   "metadata": {},
   "source": [
    "#### 2. Update your PATH variable\n",
    "\n",
    "Typing `hello` should still not work. We have to complete step 2."
   ]
  },
  {
   "cell_type": "code",
   "execution_count": null,
   "metadata": {},
   "outputs": [],
   "source": []
  },
  {
   "cell_type": "markdown",
   "metadata": {},
   "source": [
    "`echo` your PATH variable. We are going to update it- what does it need?"
   ]
  },
  {
   "cell_type": "code",
   "execution_count": null,
   "metadata": {},
   "outputs": [],
   "source": []
  },
  {
   "cell_type": "markdown",
   "metadata": {},
   "source": [
    "The following syntax will add your personal `bin` directory to your PATH. We will specify it with an absolute form like this:\n",
    "\n",
    "`PATH=$PATH:/home/eid@colostate.edu/bin`\n",
    "\n",
    "Change eid to your eid."
   ]
  },
  {
   "cell_type": "code",
   "execution_count": null,
   "metadata": {},
   "outputs": [],
   "source": []
  },
  {
   "cell_type": "markdown",
   "metadata": {},
   "source": [
    "Now try `hello` again. Then try `which hello`"
   ]
  },
  {
   "cell_type": "code",
   "execution_count": null,
   "metadata": {},
   "outputs": [],
   "source": []
  },
  {
   "cell_type": "markdown",
   "metadata": {},
   "source": [
    "If it works, congratulations! You have now achieved basic installation! ![badge](DSCI_achievement_badge.png)\n",
    "\n",
    "#### 3. Configuration file\n",
    "\n",
    "Your configuration file has already accounted for your personal bin directory. Go back to the terminal and type `nano --view .bash_profile`. This time the `--view` is read-only mode. We'll edit it later when we get more advanced.\n",
    "\n",
    "Notice this line of code:\n",
    "\n",
    "```BASH\n",
    "if [ -d $HOME/bin ] ; then\n",
    "    PATH=$PATH:$HOME/bin\n",
    "fi\n",
    "```"
   ]
  },
  {
   "cell_type": "markdown",
   "metadata": {},
   "source": [
    "It is checking to see if you have a `bin` directory, and if so, adding it to your path. We will learn the `if-then` syntax later.\n",
    "\n",
    "Notice how it used the variable `$HOME` to build up the absolute path to your bin directory?\n",
    "\n",
    "Type CTRL-X to exit nano. If your script worked in the above steps, it will work again when you logged in without doing anything because of this `if-then` statement.\n",
    "\n",
    "----\n",
    "\n",
    "Possible break and recovery session here.  "
   ]
  },
  {
   "cell_type": "markdown",
   "metadata": {},
   "source": [
    "# Variables\n",
    "\n",
    "Now that you've seen environmental variables in use, let's explore defining and using our own."
   ]
  },
  {
   "cell_type": "code",
   "execution_count": 21,
   "metadata": {},
   "outputs": [
    {
     "name": "stdout",
     "output_type": "stream",
     "text": [
      "The value of foo is bar\n"
     ]
    }
   ],
   "source": [
    "foo=bar\n",
    "echo \"The value of foo is $foo\""
   ]
  },
  {
   "cell_type": "markdown",
   "metadata": {},
   "source": [
    "* There is nothing special about the word `foo`. \n",
    "* By convention, environmental variables in in ALL CAPS, and other ones are not. *This is not enforced anywhere. * \n",
    "* variable names should be descriptive of the data they hold."
   ]
  },
  {
   "cell_type": "code",
   "execution_count": 2,
   "metadata": {},
   "outputs": [],
   "source": [
    "animal=\"rabbit\"\n",
    "currentPlant=\"aloe\"\n",
    "fungus_among_us=\"mushroom\""
   ]
  },
  {
   "cell_type": "markdown",
   "metadata": {},
   "source": [
    "Notice that I use capital letters, or underscores, to combine a descriptive phrase into a single word to use as a variable name. **Spaces are not allowed in variable names.**\n",
    "\n",
    "See how the capital 'P' let's us visually parse two words, and the underscores '_' look like three? These are two conventions for using multiple words in a variable name.\n",
    "\n",
    "\n",
    "\n",
    "### Dereferencing\n",
    "\n",
    "Remember how we used the dollar sign when we set the PATH, but only sometimes?  Here's why\n",
    "\n",
    "The words `PATH`, `HOME`, etc., and ours, `rabbit`, `currentPlant`, and `fungus_among_us` *refer* to stored values. \n",
    "\n",
    "In BASH, you must **dereference** them to access those values. You do this by prefixing the variable name with a dollar sign. \n",
    "\n",
    "Therefore, \n",
    "* `$animal` resolves to \"rabbit\", \n",
    "* `$currentPlant` resolves to \"aloe\", and \n",
    "* `$fungus_among_us` resolves to \"mushroom\".  \n",
    "\n",
    "Try accessing the value of each using the form `echo $varname`, replacing **varname** with each of `animal`, `currentPlant`, and `fungus_among_us`. \n",
    "\n",
    "But remember to prefix with the dollar sign, what happens if you don't?"
   ]
  },
  {
   "cell_type": "code",
   "execution_count": null,
   "metadata": {},
   "outputs": [],
   "source": []
  },
  {
   "cell_type": "markdown",
   "metadata": {},
   "source": [
    "## Different types\n",
    "\n",
    "```BASH\n",
    "    luckyNumber=7\n",
    "    sentence=\"Hello there.\"\n",
    "    pi=3.14\n",
    "```\n",
    "\n",
    "Variables can store numbers and text, and more complex objects that we'll discuss later. In programming, a piece of text is referred to as a **string of characters**, or simply, a **string**.\n",
    "\n",
    "You must always quote strings that have spaces, but it is generally good practice to quote all strings.\n",
    "\n",
    "\n",
    "\n",
    "**Assign values to** the variable names `luckyNumber`, `greeting`, and `cartoonCharacter`, and print them out with the following expression:\n",
    "\n",
    "\n",
    "`echo \"$greeting $cartoonCharacter likes the number $luckyNumber\"`\n",
    "    \n"
   ]
  },
  {
   "cell_type": "code",
   "execution_count": null,
   "metadata": {},
   "outputs": [],
   "source": []
  },
  {
   "cell_type": "markdown",
   "metadata": {},
   "source": [
    "## More practice\n",
    "\n",
    "Set some variables `favoriteColor`, `favoriteQuote`, `favoriteFood`."
   ]
  },
  {
   "cell_type": "code",
   "execution_count": 5,
   "metadata": {},
   "outputs": [],
   "source": [
    "favoriteFood='grapes'"
   ]
  },
  {
   "cell_type": "markdown",
   "metadata": {},
   "source": [
    "Now show the values using this single sentence:"
   ]
  },
  {
   "cell_type": "code",
   "execution_count": null,
   "metadata": {},
   "outputs": [],
   "source": [
    "echo \"Hi, my favorite color is $favoriteColor, my favorite quote is $favoriteQuote, \n",
    "and my favorite food is $favorite food\""
   ]
  },
  {
   "cell_type": "markdown",
   "metadata": {},
   "source": [
    "**Question**: What happens if the variable name is wrong, or never set?\n"
   ]
  },
  {
   "cell_type": "markdown",
   "metadata": {},
   "source": [
    "# When to use Quotes\n",
    "\n",
    "## Double quotes\n",
    "\n",
    "A necessary time to use quotes is when you need to specify a literal space \" \" in the value . We did that above to make the sentence. This is sometimes called *partial quoting, or weak quoting.*\n",
    "\n",
    "## Single quotes\n",
    "\n",
    "However, see what happens when you change the double quotes to single quotes in the last ```echo``` command. This is sometimes called *hard quoting.*"
   ]
  },
  {
   "cell_type": "code",
   "execution_count": null,
   "metadata": {},
   "outputs": [],
   "source": []
  },
  {
   "cell_type": "markdown",
   "metadata": {},
   "source": [
    "**What happened?** Single quotes hide the \\$ from the shell. \n",
    "\n",
    "This means they won't be interpolated (the variables won't be replaced by their values)."
   ]
  },
  {
   "cell_type": "markdown",
   "metadata": {},
   "source": [
    "## Escaping\n",
    "\n",
    "**Escaping** is a way of quoting a single character."
   ]
  },
  {
   "cell_type": "code",
   "execution_count": 6,
   "metadata": {},
   "outputs": [
    {
     "name": "stdout",
     "output_type": "stream",
     "text": [
      "my favorite food is grapes\n",
      "my favorite food is $favoriteFood\n"
     ]
    }
   ],
   "source": [
    "echo \"my favorite food is $favoriteFood\"\n",
    "echo \"my favorite food is \\$favoriteFood\""
   ]
  },
  {
   "cell_type": "markdown",
   "metadata": {},
   "source": [
    "A common use for that is when you want to use quotes in the output.\n",
    "```\"my favorite food is \\\"$favoriteFood\\\"\"```"
   ]
  },
  {
   "cell_type": "code",
   "execution_count": 7,
   "metadata": {},
   "outputs": [
    {
     "name": "stdout",
     "output_type": "stream",
     "text": [
      "my favorite food is \"grapes\"\n"
     ]
    }
   ],
   "source": [
    "echo \"my favorite food is \\\"$favoriteFood\\\"\""
   ]
  },
  {
   "cell_type": "code",
   "execution_count": null,
   "metadata": {},
   "outputs": [],
   "source": []
  },
  {
   "cell_type": "markdown",
   "metadata": {},
   "source": [
    "# Summary\n",
    "\n",
    "| character | example         | effect        | interpolation| \n",
    "|-----------|-----------------|---------------|--------------|\n",
    "| \"         | ```\"hi $USER\"```| ```hi david```| yes          |\n",
    "| '         | ```'hi $USER'```| ```hi $USER```| no           |\n",
    "| \\         | ```hi \\$USER``` | ```hi $USER```| no           |"
   ]
  },
  {
   "cell_type": "markdown",
   "metadata": {},
   "source": [
    "You have now achieved basic variables! ![badge](DSCI_achievement_badge.png)"
   ]
  }
 ],
 "metadata": {
  "kernelspec": {
   "display_name": "Bash",
   "language": "bash",
   "name": "bash"
  },
  "language_info": {
   "codemirror_mode": "shell",
   "file_extension": ".sh",
   "mimetype": "text/x-sh",
   "name": "bash"
  }
 },
 "nbformat": 4,
 "nbformat_minor": 4
}
