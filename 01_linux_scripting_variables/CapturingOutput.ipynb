{
 "cells": [
  {
   "cell_type": "markdown",
   "metadata": {},
   "source": [
    "# Capturing command output\n",
    "\n",
    "It can be useful to save the output of a command to a variable for later use.\n",
    "\n",
    "## Syntax\n",
    "```BASH\n",
    "     varname=value\n",
    "     varname=$( command )\n",
    "```\n",
    "A beginner error is to put spaces around the equal sign. That's OK in some languages, but not BASH.     \n",
    "\n",
    "**WRONG:**\n",
    "```\n",
    "\n",
    "varname =value\n",
    "varname= value\n",
    "\n",
    "varname =$(command)\n",
    "varname= $(command)\n",
    "\n",
    "varname=(command)\n",
    " ```\n",
    "\n",
    "Notice that we need the `$` this time on the right side of the equal sign `=`. It must accompany the parentheses.\n",
    " \n",
    "--- \n",
    "Capture the output of the command `whoami` to the variable `myname`. Remember to enclose the command `whoami` in `$( )`"
   ]
  },
  {
   "cell_type": "code",
   "execution_count": 14,
   "metadata": {},
   "outputs": [],
   "source": [
    "myname=..."
   ]
  },
  {
   "cell_type": "markdown",
   "metadata": {},
   "source": [
    "Check the outcome of this expression with the command `echo`"
   ]
  },
  {
   "cell_type": "code",
   "execution_count": null,
   "metadata": {},
   "outputs": [],
   "source": [
    "echo ..."
   ]
  },
  {
   "cell_type": "markdown",
   "metadata": {},
   "source": [
    "You can now wrap the variable in other text. Use echo to print \n",
    "```BASH\n",
    "\"My name is $myname. Hello!\"\n",
    "```"
   ]
  },
  {
   "cell_type": "code",
   "execution_count": null,
   "metadata": {},
   "outputs": [],
   "source": [
    "echo ..."
   ]
  },
  {
   "cell_type": "markdown",
   "metadata": {},
   "source": [
    "You can capture a lot of types of data this way. Save the outcome of `hostname` to the variable `whereami`"
   ]
  },
  {
   "cell_type": "code",
   "execution_count": null,
   "metadata": {},
   "outputs": [],
   "source": []
  },
  {
   "cell_type": "markdown",
   "metadata": {},
   "source": [
    "Now print a message using both of those variables."
   ]
  },
  {
   "cell_type": "code",
   "execution_count": null,
   "metadata": {},
   "outputs": [],
   "source": [
    "echo ..."
   ]
  },
  {
   "cell_type": "markdown",
   "metadata": {},
   "source": [
    "## More practice\n",
    "\n",
    "Save `pwd` to varname `dir` and echo the following statement:\n",
    "\n",
    "    \"My current directory is $dir\"\n"
   ]
  },
  {
   "cell_type": "code",
   "execution_count": null,
   "metadata": {},
   "outputs": [],
   "source": [
    "dir=...\n",
    "echo ..."
   ]
  },
  {
   "cell_type": "markdown",
   "metadata": {},
   "source": [
    "---\n",
    "Save `date +%Y` to varname `year` and echo the following statement:\n",
    "    \n",
    "    \"The best year so far is: $year\"\n",
    "    "
   ]
  },
  {
   "cell_type": "code",
   "execution_count": null,
   "metadata": {},
   "outputs": [],
   "source": [
    "year=...\n",
    "echo ..."
   ]
  },
  {
   "cell_type": "markdown",
   "metadata": {},
   "source": [
    "What does `+%Y` do? What would I use instead to get the Day of the Week?"
   ]
  },
  {
   "cell_type": "markdown",
   "metadata": {},
   "source": [
    "---\n",
    "Save `du -h -d 0` to `usage` and echo the following statement:\n",
    "\n",
    "    \"My disk usage is $usage\""
   ]
  },
  {
   "cell_type": "code",
   "execution_count": null,
   "metadata": {},
   "outputs": [],
   "source": [
    "usage=...\n",
    "echo ..."
   ]
  },
  {
   "cell_type": "markdown",
   "metadata": {},
   "source": [
    "There is extra output (a '.' for the current dir) that is a little messy. We'll deal with parsing output later.\n",
    "\n",
    "What are these arguments for `du`?\n",
    " * `-h`\n",
    " * `-d 0`\n",
    " \n",
    " ---"
   ]
  },
  {
   "cell_type": "markdown",
   "metadata": {},
   "source": [
    "# Capturing output from pipes\n",
    "\n",
    "It's OK to capture the outcome of a pipe, just like a single command.\n",
    "```BASH\n",
    "        pipeoutput=$( command1 | command2 )\n",
    "```\n",
    "\n",
    "Let's sort our directory contents by size. Get directory contents in detail form below: `ls -l`"
   ]
  },
  {
   "cell_type": "code",
   "execution_count": null,
   "metadata": {},
   "outputs": [],
   "source": []
  },
  {
   "cell_type": "markdown",
   "metadata": {},
   "source": [
    "Now, pipe those results to `sort`, `sort -k1`, `sort -k5`, and `sort -k5n`:"
   ]
  },
  {
   "cell_type": "code",
   "execution_count": null,
   "metadata": {},
   "outputs": [],
   "source": []
  },
  {
   "cell_type": "markdown",
   "metadata": {},
   "source": [
    "What did each version do?\n",
    "\n",
    "Now save the pipe to a variable, using the `sort -k5n` version of the command.\n",
    "\n",
    "Save it to the variable `contentsBySize`."
   ]
  },
  {
   "cell_type": "markdown",
   "metadata": {},
   "source": [
    "Use `echo` with `$contentsBySize` to dissect this command."
   ]
  },
  {
   "cell_type": "code",
   "execution_count": null,
   "metadata": {},
   "outputs": [],
   "source": [
    "contentsBySize=...\n",
    "echo ..."
   ]
  },
  {
   "cell_type": "markdown",
   "metadata": {},
   "source": [
    "Let's add a 3rd command.\n",
    "\n",
    "Let's get rid of the output of the line that starts with `total`.\n",
    "\n",
    "```BASH\n",
    "\n",
    "      pipeoutput=$( command1 | command2 | command3 )  \n",
    "```\n",
    "\n",
    "Add a 3rd command to your pipe: `grep -v total`\n",
    "\n",
    "`echo` the results."
   ]
  },
  {
   "cell_type": "code",
   "execution_count": null,
   "metadata": {},
   "outputs": [],
   "source": []
  },
  {
   "cell_type": "markdown",
   "metadata": {},
   "source": [
    "### Add a fourth command\n",
    "\n",
    "What if we wanted to count the number of files and directories? What command could you use?\n",
    "\n",
    "\n",
    "```BASH\n",
    "\n",
    "      pipeoutput=$( command1 | command2 | command3 | command4 )  \n",
    "```"
   ]
  },
  {
   "cell_type": "code",
   "execution_count": null,
   "metadata": {},
   "outputs": [],
   "source": []
  },
  {
   "cell_type": "markdown",
   "metadata": {},
   "source": [
    "*hint* what command counts the number of lines?"
   ]
  },
  {
   "cell_type": "markdown",
   "metadata": {},
   "source": [
    "---\n",
    "\n",
    "Save this notebook!\n",
    "\n"
   ]
  },
  {
   "cell_type": "code",
   "execution_count": null,
   "metadata": {},
   "outputs": [],
   "source": []
  }
 ],
 "metadata": {
  "kernelspec": {
   "display_name": "Bash",
   "language": "bash",
   "name": "bash"
  },
  "language_info": {
   "codemirror_mode": "shell",
   "file_extension": ".sh",
   "mimetype": "text/x-sh",
   "name": "bash"
  }
 },
 "nbformat": 4,
 "nbformat_minor": 4
}
