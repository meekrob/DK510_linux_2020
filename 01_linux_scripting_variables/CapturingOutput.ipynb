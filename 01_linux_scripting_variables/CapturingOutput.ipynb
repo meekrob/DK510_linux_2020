{
 "cells": [
  {
   "cell_type": "markdown",
   "metadata": {},
   "source": [
    "# Capturing command output\n",
    "\n",
    "It can be useful to save the output of a command to a variable for later use.\n",
    "\n",
    "## Syntax\n",
    "```BASH\n",
    "     varname=value\n",
    "     varname=$( command )\n",
    "```\n",
    "A beginner error is to put spaces around the equal sign. That's OK in some languages, but not BASH.     \n",
    "\n",
    "**WRONG:**\n",
    "```\n",
    "\n",
    "varname =value\n",
    "varname= value\n",
    "\n",
    "varname =$(command)\n",
    "varname= $(command)\n",
    "\n",
    "varname=(command)\n",
    " ```\n",
    "\n",
    "Notice that we need the `$` this time on the right side of the equal sign `=`. It must accompany the parentheses.\n",
    " \n",
    "--- \n",
    "Capture the output of the command `whoami` to the variable `myname`. "
   ]
  },
  {
   "cell_type": "code",
   "execution_count": 14,
   "metadata": {},
   "outputs": [],
   "source": [
    "myname=..."
   ]
  },
  {
   "cell_type": "markdown",
   "metadata": {},
   "source": [
    "Check the outcome of this expression with the command `echo`"
   ]
  },
  {
   "cell_type": "code",
   "execution_count": null,
   "metadata": {},
   "outputs": [],
   "source": [
    "echo ..."
   ]
  },
  {
   "cell_type": "markdown",
   "metadata": {},
   "source": [
    "You can now wrap the variable in other text. Use echo to print \n",
    "```BASH\n",
    "\"My name is $myname. Hello!\"\n",
    "```"
   ]
  },
  {
   "cell_type": "code",
   "execution_count": null,
   "metadata": {},
   "outputs": [],
   "source": [
    "echo ..."
   ]
  },
  {
   "cell_type": "markdown",
   "metadata": {},
   "source": [
    "You can capture a lot of types of data this way. Save the outcome of `hostname` to the variable `whereami`"
   ]
  },
  {
   "cell_type": "code",
   "execution_count": null,
   "metadata": {},
   "outputs": [],
   "source": []
  },
  {
   "cell_type": "markdown",
   "metadata": {},
   "source": [
    "Now print a message using both of those variables."
   ]
  },
  {
   "cell_type": "code",
   "execution_count": null,
   "metadata": {},
   "outputs": [],
   "source": [
    "echo ..."
   ]
  },
  {
   "cell_type": "markdown",
   "metadata": {},
   "source": [
    "## More practice\n",
    "\n",
    "Save `pwd` to varname `dir` and echo the following statement:\n",
    "\n",
    "    \"My current directory is $dir\"\n"
   ]
  },
  {
   "cell_type": "code",
   "execution_count": null,
   "metadata": {},
   "outputs": [],
   "source": [
    "dir=...\n",
    "echo ..."
   ]
  },
  {
   "cell_type": "markdown",
   "metadata": {},
   "source": [
    "---\n",
    "Save `date +%Y` to varname `year` and echo the following statement:\n",
    "    \n",
    "    \"The best year so far is: $year\"\n",
    "    "
   ]
  },
  {
   "cell_type": "code",
   "execution_count": null,
   "metadata": {},
   "outputs": [],
   "source": [
    "year=...\n",
    "echo ..."
   ]
  },
  {
   "cell_type": "markdown",
   "metadata": {},
   "source": [
    "What does `+%Y` do? What would I use instead to get the Day of the Week?"
   ]
  },
  {
   "cell_type": "markdown",
   "metadata": {},
   "source": [
    "---\n",
    "Save `du -h -d 0` to `usage` and echo the following statement:\n",
    "\n",
    "    \"My disk usage is $usage\""
   ]
  },
  {
   "cell_type": "code",
   "execution_count": null,
   "metadata": {},
   "outputs": [],
   "source": [
    "usage=...\n",
    "echo ..."
   ]
  },
  {
   "cell_type": "markdown",
   "metadata": {},
   "source": [
    "There is extra output (a '.' for the current dir) that is a little messy. We'll deal with parsing output later.\n",
    "\n",
    "What are these arguments for `du`?\n",
    " * `-h`\n",
    " * `-d 0`\n",
    " \n",
    " ---"
   ]
  },
  {
   "cell_type": "markdown",
   "metadata": {},
   "source": [
    "# Capturing output from pipes\n",
    "\n",
    "It's OK to capture the outcome of a pipe, just like a single command.\n",
    "```BASH\n",
    "        pipeoutput=$( command1 | command2 )\n",
    "```\n",
    "\n",
    "Let's sort our directory contents by size. Get directory contents in detail form below: `ls -l`"
   ]
  },
  {
   "cell_type": "code",
   "execution_count": null,
   "metadata": {},
   "outputs": [],
   "source": []
  },
  {
   "cell_type": "markdown",
   "metadata": {},
   "source": [
    "Now, pipe those results to `sort`, `sort -k1`, `sort -k5`, and `sort -k5n`:"
   ]
  },
  {
   "cell_type": "code",
   "execution_count": null,
   "metadata": {},
   "outputs": [],
   "source": []
  },
  {
   "cell_type": "markdown",
   "metadata": {},
   "source": [
    "What did each version do?\n",
    "\n",
    "Now save the pipe to a variable, using the `sort -k5n` version of the command.\n",
    "\n",
    "Save it to the variable `contentsBySize`."
   ]
  },
  {
   "cell_type": "markdown",
   "metadata": {},
   "source": [
    "Use `echo` with `$contentsBySize` to dissect this command."
   ]
  },
  {
   "cell_type": "code",
   "execution_count": null,
   "metadata": {},
   "outputs": [],
   "source": [
    "contentsBySize=...\n",
    "echo ..."
   ]
  },
  {
   "cell_type": "markdown",
   "metadata": {},
   "source": [
    "Let's add a 3rd command.\n",
    "\n",
    "Let's get rid of the output of the line that starts with `total`.\n",
    "\n",
    "```BASH\n",
    "\n",
    "      pipeoutput=$( command1 | command2 | command3 )  \n",
    "```\n",
    "\n",
    "Add a 3rd command to your pipe: `grep -v total`\n",
    "\n",
    "`echo` the results."
   ]
  },
  {
   "cell_type": "code",
   "execution_count": null,
   "metadata": {},
   "outputs": [],
   "source": []
  },
  {
   "cell_type": "markdown",
   "metadata": {},
   "source": [
    "# Practical Exercise\n",
    "\n",
    "Let's apply these constructs to something you can use in a script. We're going to download files from the NCBI directory for the honey bee genome. \n",
    "\n",
    "Navigate to https://ftp.ncbi.nlm.nih.gov/genomes/all/annotation_releases/7460/104/GCF_003254395.2_Amel_HAv3.1 to see a directory listing (clicking will open in a new tab).\n",
    "\n",
    "It looks like:\n",
    "\n",
    "<img src=\"https://onishdata.bmb.colostate.edu/jupyterlab_icons/html_dirlisting.png\" width=\"534px\">\n"
   ]
  },
  {
   "cell_type": "markdown",
   "metadata": {},
   "source": [
    "Let's save the url in a variable.\n",
    "\n",
    "```BASH\n",
    "\n",
    "baseUrl='https://ftp.ncbi.nlm.nih.gov/genomes/all/annotation_releases/7460/104/GCF_003254395.2_Amel_HAv3.1'\n",
    "\n",
    "```\n",
    "\n",
    "**I'm quoting mine in single quotes** so I don't have to check for things the shell will process."
   ]
  },
  {
   "cell_type": "code",
   "execution_count": 4,
   "metadata": {},
   "outputs": [],
   "source": [
    "baseUrl='https://ftp.ncbi.nlm.nih.gov/genomes/all/annotation_releases/7460/104/GCF_003254395.2_Amel_HAv3.1'"
   ]
  },
  {
   "cell_type": "markdown",
   "metadata": {},
   "source": [
    "The different files have different data, in a variety of formats. This lecture is more about linux mechanics, so we're just grabbing a small one.\n",
    "\n",
    "Choose by saving one of the file names to a variable called `datafile`. I'm going to use \"GCF_003254395.2_Amel_HAv3.1_genomic.gff.gz\"."
   ]
  },
  {
   "cell_type": "code",
   "execution_count": 2,
   "metadata": {},
   "outputs": [],
   "source": [
    "datafile=...\n",
    "echo $datafile\n",
    "# fully qualified URL\n",
    "echo $baseUrl/$datafile"
   ]
  },
  {
   "cell_type": "markdown",
   "metadata": {},
   "source": [
    "If you have defined the variables correctly, the following command downloads the specified file. This will place a file in your directory with the same name as the string stored in `$datafile`"
   ]
  },
  {
   "cell_type": "code",
   "execution_count": 5,
   "metadata": {},
   "outputs": [
    {
     "name": "stdout",
     "output_type": "stream",
     "text": [
      "--2020-08-26 16:26:38--  https://ftp.ncbi.nlm.nih.gov/genomes/all/annotation_releases/7460/104/GCF_003254395.2_Amel_HAv3.1/GCF_003254395.2_Amel_HAv3.1_genomic.gff.gz\n",
      "Resolving ftp.ncbi.nlm.nih.gov (ftp.ncbi.nlm.nih.gov)... 130.14.250.10, 2607:f220:41e:250::12, 2607:f220:41e:250::10, ...\n",
      "Connecting to ftp.ncbi.nlm.nih.gov (ftp.ncbi.nlm.nih.gov)|130.14.250.10|:443... connected.\n",
      "HTTP request sent, awaiting response... 200 OK\n",
      "Length: 6755398 (6.4M) [application/x-gzip]\n",
      "Saving to: ‘GCF_003254395.2_Amel_HAv3.1_genomic.gff.gz’\n",
      "\n",
      "100%[======================================>] 6,755,398   17.2MB/s   in 0.4s   \n",
      "\n",
      "2020-08-26 16:26:39 (17.2 MB/s) - ‘GCF_003254395.2_Amel_HAv3.1_genomic.gff.gz’ saved [6755398/6755398]\n",
      "\n"
     ]
    }
   ],
   "source": [
    "wget $baseUrl/$datafile"
   ]
  },
  {
   "cell_type": "markdown",
   "metadata": {},
   "source": [
    "Now, get the checksum of the file by running the command `md5sum` on `$datafile`"
   ]
  },
  {
   "cell_type": "code",
   "execution_count": 20,
   "metadata": {},
   "outputs": [
    {
     "name": "stdout",
     "output_type": "stream",
     "text": [
      "c081b74001f46055b9f5710be2c67f33  GCF_003254395.2_Amel_HAv3.1_genomic.gff.gz\n",
      "\n",
      "real\t0m0.015s\n",
      "user\t0m0.014s\n",
      "sys\t0m0.000s\n"
     ]
    }
   ],
   "source": [
    "md5sum $datafile"
   ]
  },
  {
   "cell_type": "markdown",
   "metadata": {},
   "source": [
    "**What is md5sum?** It is an algorithm that generates a *cryptographic hash*. This is a signature of the specified file that you can check against an expected number. Using a hash function to check file integrity is called a \"checksum\".\n",
    "\n",
    "**But, how do we check if it's right?**  We need the checksum file. Looking at the directory listing above, the filename is `md5checksums.txt`. Sometimes its called `checksum.txt`, or `checksum.md5` or similar.\n",
    "\n",
    "Set this name, `md5checksums.txt`, to the variable `checksumfile`. "
   ]
  },
  {
   "cell_type": "code",
   "execution_count": 7,
   "metadata": {},
   "outputs": [],
   "source": [
    "checksumfile=md5checksums.txt"
   ]
  },
  {
   "cell_type": "markdown",
   "metadata": {},
   "source": [
    "Now download the file as you did with `wget $baseUrl/$datafile`, but make use `$checksumfile` instead of `$datafile`"
   ]
  },
  {
   "cell_type": "code",
   "execution_count": 8,
   "metadata": {},
   "outputs": [
    {
     "name": "stdout",
     "output_type": "stream",
     "text": [
      "--2020-08-26 16:29:34--  https://ftp.ncbi.nlm.nih.gov/genomes/all/annotation_releases/7460/104/GCF_003254395.2_Amel_HAv3.1/md5checksums.txt\n",
      "Resolving ftp.ncbi.nlm.nih.gov (ftp.ncbi.nlm.nih.gov)... 130.14.250.11, 2607:f220:41e:250::7, 2607:f220:41e:250::10, ...\n",
      "Connecting to ftp.ncbi.nlm.nih.gov (ftp.ncbi.nlm.nih.gov)|130.14.250.11|:443... connected.\n",
      "HTTP request sent, awaiting response... 200 OK\n",
      "Length: 19101 (19K) [text/plain]\n",
      "Saving to: ‘md5checksums.txt’\n",
      "\n",
      "100%[======================================>] 19,101      --.-K/s   in 0.03s   \n",
      "\n",
      "2020-08-26 16:29:35 (692 KB/s) - ‘md5checksums.txt’ saved [19101/19101]\n",
      "\n"
     ]
    }
   ],
   "source": [
    "wget $baseUrl/$checksumfile"
   ]
  },
  {
   "cell_type": "code",
   "execution_count": 10,
   "metadata": {},
   "outputs": [
    {
     "name": "stdout",
     "output_type": "stream",
     "text": [
      "4e40d7b3a70329dee14aeb2f658564ea  ./Annotation_comparison/GCF_003254395.2_Amel_HAv3.1_compare_prev.gbp.gz\n",
      "67a2f793585e04aab9ec5d059b9b4130  ./Annotation_comparison/GCF_003254395.2_Amel_HAv3.1_compare_prev.txt.gz\n",
      "d3b0bf799204e1b34020a1dac1f5686c  ./Evidence_alignments/GCF_003254395.2_Amel_HAv3.1_cross_species_tx_alns.gff.gz\n",
      "390a28099c7478fcb914efbe2cf3a855  ./Evidence_alignments/GCF_003254395.2_Amel_HAv3.1_same_species_tx_alns.gff.gz\n",
      "a8349bcc6a5733d23e5d289dea93e720  ./GCF_003254395.2_Amel_HAv3.1_assembly_report.txt\n",
      "0fad70b254b53b42894b1132a6def686  ./GCF_003254395.2_Amel_HAv3.1_assembly_stats.txt\n",
      "6e1ec842ae5a24ed53a6d866ac613d17  ./GCF_003254395.2_Amel_HAv3.1_assembly_structure/Primary_Assembly/assembled_chromosomes/AGP/chrLG1.agp.gz\n",
      "671eb4b73fa352819654beefe17f465a  ./GCF_003254395.2_Amel_HAv3.1_assembly_structure/Primary_Assembly/assembled_chromosomes/AGP/chrLG1.comp.agp.gz\n",
      "c60d55f350e165e09ce79ec9fbab3851  ./GCF_003254395.2_Amel_HAv3.1_assembly_structure/Primary_Assembly/assembled_chromosomes/AGP/chrLG10.agp.gz\n",
      "7d86b3b706728a346937fdd7f9fad8b1  ./GCF_003254395.2_Amel_HAv3.1_assembly_structure/Primary_Assembly/assembled_chromosomes/AGP/chrLG10.comp.agp.gz\n"
     ]
    }
   ],
   "source": [
    "head $checksumfile"
   ]
  },
  {
   "cell_type": "markdown",
   "metadata": {},
   "source": [
    "---\n",
    "Is the checksum right??? How do we tell? There's too much information.\n",
    "\n",
    "Try using `grep` with information you got from the `md5sum` command above. \n",
    "\n",
    "It will take the form `grep PATTERN $checksumfile`."
   ]
  },
  {
   "cell_type": "code",
   "execution_count": 13,
   "metadata": {},
   "outputs": [
    {
     "name": "stdout",
     "output_type": "stream",
     "text": [
      "c081b74001f46055b9f5710be2c67f33  ./GCF_003254395.2_Amel_HAv3.1_genomic.gff.gz\n"
     ]
    }
   ],
   "source": [
    "grep c081b74001f46055b9f5710be2c67f33 $checksumfile"
   ]
  },
  {
   "cell_type": "markdown",
   "metadata": {},
   "source": [
    "**Challenge!** Once you figure out how to get the information with grep, can you run the commands in succession to get a more readable answer?"
   ]
  },
  {
   "cell_type": "code",
   "execution_count": 23,
   "metadata": {},
   "outputs": [
    {
     "name": "stdout",
     "output_type": "stream",
     "text": [
      "c081b74001f46055b9f5710be2c67f33  GCF_003254395.2_Amel_HAv3.1_genomic.gff.gz\n",
      "c081b74001f46055b9f5710be2c67f33  ./GCF_003254395.2_Amel_HAv3.1_genomic.gff.gz\n"
     ]
    }
   ],
   "source": [
    "# md5sum command\n",
    "md5sum $datafile\n",
    "# grep command\n",
    "grep $datafile $checksumfile"
   ]
  },
  {
   "cell_type": "code",
   "execution_count": null,
   "metadata": {},
   "outputs": [],
   "source": []
  }
 ],
 "metadata": {
  "kernelspec": {
   "display_name": "Bash",
   "language": "bash",
   "name": "bash"
  },
  "language_info": {
   "codemirror_mode": "shell",
   "file_extension": ".sh",
   "mimetype": "text/x-sh",
   "name": "bash"
  }
 },
 "nbformat": 4,
 "nbformat_minor": 4
}
