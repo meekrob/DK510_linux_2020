{
 "cells": [
  {
   "cell_type": "markdown",
   "metadata": {},
   "source": [
    "# Practical Exercise\n",
    "\n",
    "Let's apply these constructs to something you can use in a script. We're going to download files from the NCBI directory for the honey bee genome. \n",
    "\n",
    "Navigate to https://ftp.ncbi.nlm.nih.gov/genomes/all/annotation_releases/7460/104/GCF_003254395.2_Amel_HAv3.1 to see a directory listing (clicking will open in a new tab).\n",
    "\n",
    "It looks like:\n",
    "\n",
    "<img src=\"https://onishdata.bmb.colostate.edu/jupyterlab_icons/html_dirlisting.png\" width=\"534px\">\n"
   ]
  },
  {
   "cell_type": "markdown",
   "metadata": {},
   "source": [
    "Let's save the url in a variable.\n",
    "\n",
    "```BASH\n",
    "\n",
    "baseUrl='https://ftp.ncbi.nlm.nih.gov/genomes/all/annotation_releases/7460/104/GCF_003254395.2_Amel_HAv3.1'\n",
    "\n",
    "```\n",
    "\n",
    "**I'm quoting mine in single quotes** so I don't have to check for things the shell will process."
   ]
  },
  {
   "cell_type": "code",
   "execution_count": null,
   "metadata": {},
   "outputs": [],
   "source": [
    "baseUrl='https://ftp.ncbi.nlm.nih.gov/genomes/all/annotation_releases/7460/104/GCF_003254395.2_Amel_HAv3.1'"
   ]
  },
  {
   "cell_type": "markdown",
   "metadata": {},
   "source": [
    "The different files have different data, in a variety of formats. This lecture is more about linux mechanics, so we're just grabbing a small one.\n",
    "\n",
    "Choose by saving one of the file names to a variable called `datafile`. I'm going to use \"GCF_003254395.2_Amel_HAv3.1_genomic.gff.gz\"."
   ]
  },
  {
   "cell_type": "code",
   "execution_count": null,
   "metadata": {},
   "outputs": [],
   "source": [
    "datafile=\"GCF_003254395.2_Amel_HAv3.1_genomic.gff.gz\"\n",
    "echo $datafile\n",
    "# fully qualified URL\n",
    "echo $baseUrl/$datafile"
   ]
  },
  {
   "cell_type": "markdown",
   "metadata": {},
   "source": [
    "If you have defined the variables correctly, the following command downloads the specified file. This will place a file in your directory with the same name as the string stored in `$datafile`"
   ]
  },
  {
   "cell_type": "code",
   "execution_count": null,
   "metadata": {},
   "outputs": [],
   "source": [
    "wget $baseUrl/$datafile"
   ]
  },
  {
   "cell_type": "markdown",
   "metadata": {},
   "source": [
    "Now, get the checksum of the file by running the command `md5sum` on `$datafile`"
   ]
  },
  {
   "cell_type": "code",
   "execution_count": null,
   "metadata": {},
   "outputs": [],
   "source": [
    "# if you're on mac OS X, you might need to do `md5 -r` instead of md5sum\n",
    "md5sum $datafile"
   ]
  },
  {
   "cell_type": "markdown",
   "metadata": {},
   "source": [
    "**What is md5sum?** It is an algorithm that generates a digest called a *hash*. This is a signature of the specified file that you can check against an expected number. Using a hash function to check file integrity is called a \"checksum\".\n",
    "\n",
    "**But, how do we check if it's right?**  We need the checksum file. Looking at the directory listing above, the filename is `md5checksums.txt`. Sometimes its called `checksum.txt`, or `checksum.md5` or similar.\n",
    "\n",
    "Set this name, `md5checksums.txt`, to the variable `checksumfile`. "
   ]
  },
  {
   "cell_type": "code",
   "execution_count": null,
   "metadata": {},
   "outputs": [],
   "source": [
    "checksumfile=md5checksums.txt"
   ]
  },
  {
   "cell_type": "markdown",
   "metadata": {},
   "source": [
    "Now download the file as you did with `wget $baseUrl/$datafile`, but make use `$checksumfile` instead of `$datafile`"
   ]
  },
  {
   "cell_type": "code",
   "execution_count": null,
   "metadata": {},
   "outputs": [],
   "source": [
    "wget $baseUrl/$checksumfile"
   ]
  },
  {
   "cell_type": "code",
   "execution_count": null,
   "metadata": {},
   "outputs": [],
   "source": [
    "head $checksumfile"
   ]
  },
  {
   "cell_type": "markdown",
   "metadata": {},
   "source": [
    "---\n",
    "Is the checksum right??? How do we tell? There's too much information.\n",
    "\n",
    "Try using `grep` with information you got from the `md5sum` command above. \n",
    "\n",
    "It will take the form `grep PATTERN $checksumfile`."
   ]
  },
  {
   "cell_type": "code",
   "execution_count": null,
   "metadata": {},
   "outputs": [],
   "source": []
  },
  {
   "cell_type": "markdown",
   "metadata": {},
   "source": [
    "**Challenge!** Once you figure out how to get the information with grep, can you run the commands in succession to get a more readable answer?"
   ]
  },
  {
   "cell_type": "code",
   "execution_count": null,
   "metadata": {},
   "outputs": [],
   "source": [
    "# md5sum command\n",
    "md5sum $datafile\n",
    "# grep command\n",
    "grep $datafile $checksumfile"
   ]
  },
  {
   "cell_type": "markdown",
   "metadata": {},
   "source": [
    "Did it work? Can you formulate those two commands to use only `$datafile` and `$checksum` as the arguments to the commands?\n",
    "\n",
    "Let's use jupyterlab to convert this notebook into a script.\n",
    "\n",
    "Go to File->Export Notebook As...Export Notebook to Executable Script\n",
    "\n",
    "This will save it to your computer. If you're still figuring out the directory structure, here is the output of my saved script below.\n",
    "```BASH\n",
    "baseUrl='https://ftp.ncbi.nlm.nih.gov/genomes/all/annotation_releases/7460/104/GCF_003254395.2_Amel_HAv3.1'\n",
    "\n",
    "datafile=\"GCF_003254395.2_Amel_HAv3.1_genomic.gff.gz\"\n",
    "echo $datafile\n",
    "# fully qualified URL\n",
    "echo $baseUrl/$datafile\n",
    "\n",
    "wget $baseUrl/$datafile\n",
    "\n",
    "md5sum $datafile\n",
    "\n",
    "checksumfile=md5checksums.txt\n",
    "\n",
    "wget $baseUrl/$checksumfile\n",
    "\n",
    "head $checksumfile\n",
    "\n",
    "grep $datafile $checksumfile\n",
    "\n",
    "# md5sum command\n",
    "md5sum $datafile\n",
    "# grep command\n",
    "grep $datafile $checksumfile\n",
    "```"
   ]
  },
  {
   "cell_type": "markdown",
   "metadata": {},
   "source": [
    "# Let's use the script we created from the notebook.\n",
    "\n",
    "---\n",
    "\n",
    "If you can find that exported script on your home computer, then upload it using the up-arrow icon on the JupyterLab icon menu.\n",
    "\n",
    "**Now, switch over to a terminal and make sure you are in our current directory.**\n",
    "\n",
    "You can get the current directory of this notebook via: `pwd`"
   ]
  },
  {
   "cell_type": "code",
   "execution_count": null,
   "metadata": {},
   "outputs": [],
   "source": [
    "pwd"
   ]
  },
  {
   "cell_type": "markdown",
   "metadata": {},
   "source": [
    "1. Copy the output from the above command, and paste it after the `cd` command \"*in your terminal*. Remember to leave a space between the `cd` and the pasted text.\n",
    "1. Check to see if you have the script using `ls checksum.sh`\n",
    "1. If not, copy the text from my finished script below:\n",
    "1. Type `nano checksum.sh` *in your terminal*\n",
    "\n",
    "*My finished script*"
   ]
  },
  {
   "cell_type": "markdown",
   "metadata": {},
   "source": [
    "```BASH\n",
    "baseUrl='https://ftp.ncbi.nlm.nih.gov/genomes/all/annotation_releases/7460/104/GCF_003254395.2_Amel_HAv3.1'\n",
    "\n",
    "datafile=\"GCF_003254395.2_Amel_HAv3.1_genomic.gff.gz\"\n",
    "echo $datafile\n",
    "# fully qualified URL\n",
    "echo $baseUrl/$datafile\n",
    "\n",
    "wget $baseUrl/$datafile\n",
    "\n",
    "md5sum $datafile\n",
    "\n",
    "checksumfile=md5checksums.txt\n",
    "\n",
    "wget $baseUrl/$checksumfile\n",
    "\n",
    "head $checksumfile\n",
    "\n",
    "grep $datafile $checksumfile\n",
    "\n",
    "# md5sum command\n",
    "md5sum $datafile\n",
    "# grep command\n",
    "grep $datafile $checksumfile\n",
    "```"
   ]
  },
  {
   "cell_type": "markdown",
   "metadata": {},
   "source": [
    "Let's make it executable:\n",
    "```BASH\n",
    "\n",
    "chmod -v a+x checksum.sh\n",
    "./checksum.sh\n",
    "\n",
    "```"
   ]
  }
 ],
 "metadata": {
  "kernelspec": {
   "display_name": "Bash",
   "language": "bash",
   "name": "bash"
  },
  "language_info": {
   "codemirror_mode": "shell",
   "file_extension": ".sh",
   "mimetype": "text/x-sh",
   "name": "bash"
  }
 },
 "nbformat": 4,
 "nbformat_minor": 4
}
