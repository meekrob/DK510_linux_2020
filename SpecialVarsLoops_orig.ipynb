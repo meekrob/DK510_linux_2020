{
 "cells": [
  {
   "cell_type": "markdown",
   "metadata": {},
   "source": [
    "Go to File->Save Notebook As... remove the '_orig' from the filename.\n",
    "\n",
    "\n",
    "# Special Variables and Loops\n",
    "\n",
    "In our **smallestLargestFile** script, we did some magic where we passed a wildcard expression into our script to make it work on a subset of files.\n",
    "\n",
    "It was:\n",
    "\n",
    "`./smallestLargestFile.sh *.ipynb`\n",
    "\n",
    "and we made use of it by adding the special variable `$@` as the argument to `ls`:\n",
    "\n",
    "```BASH\n",
    "$( ls -l $@ | sort -k5n | ... )\n",
    "```\n",
    "\n",
    "`$@`: All arguments on the command line. Blank if there are none.\n",
    "\n",
    "Therefore, giving `*.ipynb` expanded to all the files with a '.ipynb' extension, and they were all passed to the pipe statements using `$@`.  It was equivalent to writing, in the script:\n",
    "\n",
    "```BASH\n",
    "$( ls -l *.ipynb | sort -k5n | ... )\n",
    "```\n",
    "\n",
    "or the most specific, least flexible version, would specify the names literally, something like (only showing a few):\n",
    "\n",
    "```BASH\n",
    "$( ls -l Variables_orig.ipynb Downloader_orig.ipynb Conditionals_orig.ipynb | sort -k5n | ... )\n",
    "```\n",
    "\n",
    "***but this script would be useless.*** \n",
    "\n",
    "It would only work in one directory, and you would have to change it to suit your directory contents.\n",
    "\n",
    "*This special variable is only defined inside scripts,* and has no meaning on the command line, nor in a code cell:"
   ]
  },
  {
   "cell_type": "code",
   "execution_count": null,
   "metadata": {},
   "outputs": [],
   "source": [
    "echo \"Command line arguments are [$@]\" # Will be empty: []"
   ]
  },
  {
   "cell_type": "markdown",
   "metadata": {},
   "source": [
    "This functionality is one of the ways that you make scripts applicable to general situations. \n",
    "\n",
    "Command line arguments are assigned to ***positional parameters.***\n",
    "\n",
    "* `$1` *Only the first argument*. 1st \"position\".\n",
    "  * `$2` *Only the second argument*. 2nd \"position\".\n",
    "  * `$3` *Only the third*. 3rd position.\n",
    "  * `$4` *Only the fourth*. 4th position.\n",
    "  * etc.\n",
    "  \n",
    "***In your terminal*** make sure you're in the same directory as this notebook. \n",
    "\n",
    "\n",
    "***In your terminal*** write a new script using nano: ***positionalParams.sh***\n",
    "\n",
    "```BASH\n",
    "#!/usr/bin/env bash\n",
    "\n",
    "echo \"1st position: $1\"\n",
    "echo \"2nd position: $2\"\n",
    "echo \"3nd position: $3\"\n",
    "```\n",
    "\n",
    "**You know the drill**\n",
    "\n",
    "`chmod 755 positionalParams.sh`\n",
    "\n",
    "If you your terminal is now in the same directory as this notebook, the following code cell will work:"
   ]
  },
  {
   "cell_type": "code",
   "execution_count": null,
   "metadata": {},
   "outputs": [],
   "source": [
    "./positionalParams.sh one two three"
   ]
  },
  {
   "cell_type": "markdown",
   "metadata": {},
   "source": [
    "Play around with the arguments `one` `two` `three`. Try changing the words to other things- maybe unrelated things. \n",
    "\n",
    "Try using wildcards, like with \\*.ipynb. However, there are more python notebooks than three. We can add more \"nth position\" statements, but how do we know how many?\n",
    "\n",
    "Add\n",
    "\n",
    "```BASH\n",
    "echo \"There are $# arguments on the command line.\"\n",
    "```\n",
    "\n",
    "to the end of the script, and run it with the wildcard expression `*.ipynb`."
   ]
  },
  {
   "cell_type": "code",
   "execution_count": null,
   "metadata": {},
   "outputs": [],
   "source": [
    "./positionalParams.sh *.ipynb"
   ]
  },
  {
   "cell_type": "markdown",
   "metadata": {},
   "source": [
    "**But do you want to write an \"echo position:...\" for each argument? No.** \n",
    "\n",
    "This is why we have loops.\n",
    "\n",
    "Loops can be written in code cells and the command line, try this one:"
   ]
  },
  {
   "cell_type": "code",
   "execution_count": null,
   "metadata": {},
   "outputs": [],
   "source": [
    "for filename in CapturingOutput_orig.ipynb Conditionals_orig.ipynb Downloader_orig.ipynb\n",
    "do\n",
    "    echo \"Filename is: $filename\"\n",
    "done"
   ]
  },
  {
   "cell_type": "markdown",
   "metadata": {},
   "source": [
    "Now try it with the wildcard, which dynamically matches however many files are there that match `*.ipynb`"
   ]
  },
  {
   "cell_type": "code",
   "execution_count": null,
   "metadata": {},
   "outputs": [],
   "source": [
    "for filename in *.ipynb\n",
    "do\n",
    "    echo \"Filename is: $filename\"\n",
    "done"
   ]
  },
  {
   "cell_type": "markdown",
   "metadata": {},
   "source": [
    "Now try it with this more specific pattern: `*_orig.ipynb`:"
   ]
  },
  {
   "cell_type": "code",
   "execution_count": null,
   "metadata": {},
   "outputs": [],
   "source": []
  },
  {
   "cell_type": "markdown",
   "metadata": {},
   "source": [
    "\n",
    "## for-loop\n",
    "\n",
    "\n",
    "General syntax:\n",
    "\n",
    "```BASH\n",
    "\n",
    "for variable in sequence\n",
    "do\n",
    "    ...statements...\n",
    "done\n",
    "```\n",
    "\n",
    "The actions we want repeated go in the `...statements...` section. There can be any number of them, except zero."
   ]
  },
  {
   "cell_type": "code",
   "execution_count": null,
   "metadata": {},
   "outputs": [],
   "source": [
    "echo \"THIS WORKS:\"\n",
    "for number in 1 2 3\n",
    "do\n",
    "   echo \"The number is $number.\"\n",
    "   echo \"This statement is just for fun.\"\n",
    "done\n",
    "\n",
    "echo # blank line\n",
    "\n",
    "echo \"THIS IS A SYNTAX ERRROR:\"\n",
    "for number in 1 2 3\n",
    "do\n",
    "    # because there are no executable statements in here, just a comment\n",
    "done"
   ]
  },
  {
   "cell_type": "markdown",
   "metadata": {},
   "source": [
    "It says something about an unexpected token!!! This is not an arcade. A *token* is any syntax element, operator, value, etc. ***We'll only hear about tokens if BASH has failed to parse our code.***\n",
    "\n",
    "## Adding a counter to our loop"
   ]
  },
  {
   "cell_type": "code",
   "execution_count": null,
   "metadata": {},
   "outputs": [],
   "source": [
    "counter=1\n",
    "for filename in *.ipynb\n",
    "do\n",
    "    echo \"Filename $counter is: $filename\"\n",
    "    counter=$((counter + 1))\n",
    "done\n",
    "\n",
    "echo \"You have $counter ipython notebooks.\""
   ]
  },
  {
   "cell_type": "markdown",
   "metadata": {},
   "source": [
    "### This new syntax allows us to do integer arithmetic on variables."
   ]
  },
  {
   "cell_type": "markdown",
   "metadata": {},
   "source": [
    "# MATH\n",
    "\n",
    "You knew we'd get to it eventually.\n",
    "\n",
    "I'm showing you the most flexible (and unimpeachable) syntax in BASH:\n",
    "\n",
    "```BASH\n",
    "\n",
    "$(( arithmetic ))\n",
    "\n",
    "```\n",
    "\n",
    "## Simple examples:\n",
    "\n",
    "```BASH\n",
    "# addition\n",
    "echo $((1+1)) \n",
    "# more readable\n",
    "echo $(( 1 + 1 )) \n",
    "\n",
    "# division\n",
    "echo $(( 10 / 2 )) \n",
    "\n",
    "# multiplication\n",
    "echo $(( 2 * 3 ))\n",
    "\n",
    "# exponentiation\n",
    "echo $(( 2 ** 3 ))\n",
    "\n",
    "# combo- arithmetic expressions follow precedence rules.\n",
    "echo $(( 2 + 3 * 2 ))\n",
    "echo $(( 2 ** 3 * 2 ))\n",
    "echo $(( 2 ** 3 + 2 ** 2 + 2 ** 1 + 2 ** 0))\n",
    "\n",
    "```\n",
    "\n",
    "Try these below, mess around:"
   ]
  },
  {
   "cell_type": "code",
   "execution_count": null,
   "metadata": {},
   "outputs": [],
   "source": [
    "echo $(( 2 + 3 * 2 ))\n",
    "echo $(( 2 ** 3 * 2 ))\n",
    "echo $(( 2 ** 3 + 2 ** 2 + 2 ** 1 + 2 ** 0))"
   ]
  },
  {
   "cell_type": "markdown",
   "metadata": {},
   "source": [
    "**Question:** Why do we need the `echo`? What happens without it?"
   ]
  },
  {
   "cell_type": "code",
   "execution_count": 3,
   "metadata": {},
   "outputs": [],
   "source": [
    "# try mathematical expressions here without echo-ing them. BASH tries to interpret them as commands."
   ]
  },
  {
   "cell_type": "markdown",
   "metadata": {},
   "source": [
    "**Question**: What happens if we put a string in the expression that is not a number, say, `one + 1`?"
   ]
  },
  {
   "cell_type": "code",
   "execution_count": 4,
   "metadata": {},
   "outputs": [],
   "source": [
    "# try echoing a mathematical expression that has a word in it"
   ]
  },
  {
   "cell_type": "markdown",
   "metadata": {},
   "source": [
    "### Variables in mathematical expressions\n",
    "\n",
    "Before, I showed a `counter` in a loop. Now that you've seen the math constructs, this should make more sense.\n",
    "\n",
    "Try setting a new variable `counter` to `1` and `echo` its value. \n",
    "\n",
    "Then, increment that variable using the expression `counter=$((counter + 1))`"
   ]
  },
  {
   "cell_type": "code",
   "execution_count": 5,
   "metadata": {},
   "outputs": [],
   "source": [
    "# set the variable 'counter' to 1 and echo it\n",
    "\n",
    "# increment counter and echo\n",
    "\n",
    "# increment counter and echo\n",
    "\n",
    "# do it as many times as you want"
   ]
  },
  {
   "cell_type": "markdown",
   "metadata": {},
   "source": [
    "# New in this notebook:\n",
    "\n",
    "## Terminology\n",
    " * Loops\n",
    " * Positional parameters\n",
    "\n",
    "## Syntax\n",
    "\n",
    "### General syntax:\n",
    "  * for-loops: `for var in seq; do ...statements...; done`\n",
    "  * arithmetic: `$(( ))`\n",
    "\n",
    "### Script-only syntax:\n",
    "  * `$@`: *All* positional parameters from the command line.\n",
    "  * `$#`: The number of positional parameters on the command line.\n",
    "  * `$1`, `$2`, etc. Specific arguments supplied on the command line.\n",
    "\n",
    "  "
   ]
  }
 ],
 "metadata": {
  "kernelspec": {
   "display_name": "Bash",
   "language": "bash",
   "name": "bash"
  },
  "language_info": {
   "codemirror_mode": "shell",
   "file_extension": ".sh",
   "mimetype": "text/x-sh",
   "name": "bash"
  }
 },
 "nbformat": 4,
 "nbformat_minor": 4
}
