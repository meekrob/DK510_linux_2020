{
 "cells": [
  {
   "cell_type": "markdown",
   "metadata": {},
   "source": [
    "# File->Save Notebook As...!!!\n",
    "\n",
    "Save this notebook as **Downloader.ipynb**!!! (remove \"_orig\")\n"
   ]
  },
  {
   "cell_type": "markdown",
   "metadata": {},
   "source": [
    "# Practical Exercise\n",
    "\n",
    "Let's apply these constructs to something you can use in a script. We're going to download files from the NCBI directory for the honey bee genome. \n",
    "\n",
    "Navigate to https://ftp.ncbi.nlm.nih.gov/genomes/all/annotation_releases/7460/104/GCF_003254395.2_Amel_HAv3.1 to see a directory listing (clicking will open in a new tab).\n",
    "\n",
    "It looks like:\n",
    "\n",
    "<img src=\"https://onishdata.bmb.colostate.edu/jupyterlab_icons/html_dirlisting.png\" width=\"534px\">\n"
   ]
  },
  {
   "cell_type": "markdown",
   "metadata": {},
   "source": [
    "Let's save the url in a variable.\n",
    "\n",
    "```BASH\n",
    "\n",
    "baseUrl='https://ftp.ncbi.nlm.nih.gov/genomes/all/annotation_releases/7460/104/GCF_003254395.2_Amel_HAv3.1'\n",
    "\n",
    "```\n",
    "\n",
    "**I'm quoting mine in single quotes** so I don't have to check for things the shell will process. One common culprit is an 'ampersand'."
   ]
  },
  {
   "cell_type": "code",
   "execution_count": null,
   "metadata": {},
   "outputs": [],
   "source": [
    "baseUrl='https://ftp.ncbi.nlm.nih.gov/genomes/all/annotation_releases/7460/104/GCF_003254395.2_Amel_HAv3.1'"
   ]
  },
  {
   "cell_type": "markdown",
   "metadata": {},
   "source": [
    "The different files have different data, in a variety of formats. This lecture is more about linux mechanics, so we're just grabbing a small one.\n",
    "\n",
    "Choose by saving one of the file names to a variable called `datafile`. I'm going to use \"GCF_003254395.2_Amel_HAv3.1_genomic.gff.gz\"."
   ]
  },
  {
   "cell_type": "code",
   "execution_count": null,
   "metadata": {},
   "outputs": [],
   "source": [
    "datafile=\"GCF_003254395.2_Amel_HAv3.1_genomic.gff.gz\"\n",
    "echo $datafile\n",
    "# fully qualified URL\n",
    "echo $baseUrl/$datafile"
   ]
  },
  {
   "cell_type": "markdown",
   "metadata": {},
   "source": [
    "If you have defined the variables correctly, the following command downloads the specified file. This will place a file in your directory with the same name as the string stored in `$datafile`\n",
    "\n",
    "We're going to use a new argument to `wget`: `-nc`. It stands for \"no clobber\", and will prevent multiple downloads of the same file."
   ]
  },
  {
   "cell_type": "code",
   "execution_count": null,
   "metadata": {},
   "outputs": [],
   "source": [
    "wget -nc $baseUrl/$datafile"
   ]
  },
  {
   "cell_type": "markdown",
   "metadata": {},
   "source": [
    "Now, get the checksum of the file by running the command `md5sum` on `$datafile`"
   ]
  },
  {
   "cell_type": "code",
   "execution_count": null,
   "metadata": {},
   "outputs": [],
   "source": [
    "# if you're on mac OS X, you might need to do `md5 -r` instead of md5sum\n",
    "md5sum $datafile"
   ]
  },
  {
   "cell_type": "markdown",
   "metadata": {},
   "source": [
    "**What is md5sum?** It is an algorithm that generates a digest called a *hash*. This is a signature of the specified file that you can check against an expected number. Using a hash function to check file integrity is called a \"checksum\".\n",
    "\n",
    "**But, how do we check if it's right?**  We need the checksum file. Looking at the directory listing above, the filename is `md5checksums.txt`. Sometimes its called `checksum.txt`, or `checksum.md5` or similar.\n",
    "\n",
    "Set this name, `md5checksums.txt`, to the variable `checksumfile`. "
   ]
  },
  {
   "cell_type": "code",
   "execution_count": null,
   "metadata": {},
   "outputs": [],
   "source": [
    "checksumfile=md5checksums.txt"
   ]
  },
  {
   "cell_type": "markdown",
   "metadata": {},
   "source": [
    "Now download the file as you did with `wget -nc $baseUrl/$datafile`, but make use `$checksumfile` instead of `$datafile`"
   ]
  },
  {
   "cell_type": "code",
   "execution_count": null,
   "metadata": {},
   "outputs": [],
   "source": [
    "wget -nc $baseUrl/$checksumfile"
   ]
  },
  {
   "cell_type": "code",
   "execution_count": null,
   "metadata": {},
   "outputs": [],
   "source": [
    "head $checksumfile"
   ]
  },
  {
   "cell_type": "markdown",
   "metadata": {},
   "source": [
    "---\n",
    "Is the checksum right??? How do we tell? There's too much information.\n",
    "\n",
    "Try using `grep` with information you got from the `md5sum` command above. \n",
    "\n",
    "It will take the form `grep PATTERN $checksumfile`."
   ]
  },
  {
   "cell_type": "code",
   "execution_count": null,
   "metadata": {},
   "outputs": [],
   "source": []
  },
  {
   "cell_type": "markdown",
   "metadata": {},
   "source": [
    "**Challenge!** Once you figure out how to get the information with grep, can you run the commands in succession to get a more readable answer?"
   ]
  },
  {
   "cell_type": "code",
   "execution_count": null,
   "metadata": {},
   "outputs": [],
   "source": [
    "# md5sum command\n",
    "md5sum $datafile\n",
    "# grep command\n",
    "grep $datafile $checksumfile"
   ]
  },
  {
   "cell_type": "markdown",
   "metadata": {},
   "source": [
    "Did it work? Can you formulate those two commands to use only `$datafile` and `$checksum` as the arguments to the commands?\n",
    "\n",
    "### Script version\n",
    "\n",
    "***In your terminal*** open a new file `nano checksum.sh` and paste in the following code:\n",
    "\n",
    "```BASH\n",
    "#!/bin/bash\n",
    "\n",
    "baseUrl='https://ftp.ncbi.nlm.nih.gov/genomes/all/annotation_releases/7460/104/GCF_003254395.2_Amel_HAv3.1'\n",
    "datafile=\"GCF_003254395.2_Amel_HAv3.1_genomic.gff.gz\"\n",
    "checksumfile=\"md5checksums.txt\"\n",
    "\n",
    "wget -nc $baseUrl/$datafile\n",
    "wget -nc $baseUrl/$checksumfile\n",
    "\n",
    "# md5sum command\n",
    "md5sum $datafile\n",
    "# grep command\n",
    "grep $datafile $checksumfile\n",
    "```"
   ]
  },
  {
   "cell_type": "markdown",
   "metadata": {},
   "source": [
    "Let's make it executable:\n",
    "```BASH\n",
    "\n",
    "chmod -v 755 checksum.sh\n",
    "./checksum.sh\n",
    "\n",
    "```"
   ]
  },
  {
   "cell_type": "markdown",
   "metadata": {},
   "source": [
    "### New commands\n",
    "* `wget -nc`: **n**o **c**lobber\n"
   ]
  },
  {
   "cell_type": "code",
   "execution_count": null,
   "metadata": {},
   "outputs": [],
   "source": []
  }
 ],
 "metadata": {
  "kernelspec": {
   "display_name": "Bash",
   "language": "bash",
   "name": "bash"
  },
  "language_info": {
   "codemirror_mode": "shell",
   "file_extension": ".sh",
   "mimetype": "text/x-sh",
   "name": "bash"
  }
 },
 "nbformat": 4,
 "nbformat_minor": 4
}
